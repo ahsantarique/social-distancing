{
 "cells": [
  {
   "cell_type": "code",
   "execution_count": 1,
   "metadata": {},
   "outputs": [],
   "source": [
    "import numpy as np\n",
    "import networkx as nx\n",
    "import EoN\n",
    "import matplotlib.pyplot as plt\n",
    "import csv, random, pdb, sys\n",
    "from IPython.core.debugger import set_trace\n",
    "import copy\n",
    "import pickle as pkl"
   ]
  },
  {
   "cell_type": "code",
   "execution_count": 2,
   "metadata": {},
   "outputs": [],
   "source": [
    "sys.path.insert(0, '../lib/')"
   ]
  },
  {
   "cell_type": "code",
   "execution_count": 3,
   "metadata": {},
   "outputs": [],
   "source": [
    "from util import *\n",
    "from graph_utils import *"
   ]
  },
  {
   "cell_type": "code",
   "execution_count": 4,
   "metadata": {},
   "outputs": [
    {
     "data": {
      "text/plain": [
       "131219"
      ]
     },
     "execution_count": 4,
     "metadata": {},
     "output_type": "execute_result"
    }
   ],
   "source": [
    "graph_file = '../data/household_undirected_albe_1.90.txt'\n",
    "G = read_graph(graph_file)\n",
    "\n",
    "len(G)"
   ]
  },
  {
   "cell_type": "code",
   "execution_count": 5,
   "metadata": {
    "collapsed": true,
    "jupyter": {
     "outputs_hidden": true
    }
   },
   "outputs": [
    {
     "name": "stdout",
     "output_type": "stream",
     "text": [
      "alpha:  0.0\n",
      "init comp\n",
      "degree done\n",
      "connected components done\n",
      "end init comp\n",
      "init comp\n",
      "degree done\n",
      "connected components done\n",
      "end init comp\n",
      "init comp\n",
      "degree done\n",
      "connected components done\n",
      "end init comp\n",
      "init comp\n",
      "degree done\n",
      "connected components done\n",
      "end init comp\n",
      "init comp\n",
      "degree done\n",
      "connected components done\n",
      "end init comp\n",
      "init comp\n",
      "degree done\n",
      "connected components done\n",
      "end init comp\n",
      "init comp\n",
      "degree done\n",
      "connected components done\n",
      "end init comp\n",
      "init comp\n",
      "degree done\n",
      "connected components done\n",
      "end init comp\n",
      "init comp\n",
      "degree done\n",
      "connected components done\n",
      "end init comp\n",
      "init comp\n",
      "degree done\n",
      "connected components done\n",
      "end init comp\n",
      "alpha:  0.5\n",
      "init comp\n",
      "degree done\n",
      "connected components done\n",
      "end init comp\n",
      "init comp\n",
      "degree done\n",
      "connected components done\n",
      "end init comp\n",
      "init comp\n",
      "degree done\n",
      "connected components done\n",
      "end init comp\n",
      "init comp\n",
      "degree done\n",
      "connected components done\n",
      "end init comp\n",
      "init comp\n",
      "degree done\n",
      "connected components done\n",
      "end init comp\n",
      "init comp\n",
      "degree done\n",
      "connected components done\n",
      "end init comp\n",
      "init comp\n",
      "degree done\n",
      "connected components done\n",
      "end init comp\n",
      "init comp\n",
      "degree done\n",
      "connected components done\n",
      "end init comp\n",
      "init comp\n",
      "degree done\n",
      "connected components done\n",
      "end init comp\n",
      "init comp\n",
      "degree done\n",
      "connected components done\n",
      "end init comp\n",
      "alpha:  1.0\n",
      "init comp\n",
      "degree done\n",
      "connected components done\n",
      "end init comp\n",
      "init comp\n",
      "degree done\n",
      "connected components done\n",
      "end init comp\n",
      "init comp\n",
      "degree done\n",
      "connected components done\n",
      "end init comp\n",
      "init comp\n",
      "degree done\n",
      "connected components done\n",
      "end init comp\n",
      "init comp\n",
      "degree done\n",
      "connected components done\n",
      "end init comp\n",
      "init comp\n",
      "degree done\n",
      "connected components done\n",
      "end init comp\n",
      "init comp\n",
      "degree done\n",
      "connected components done\n",
      "end init comp\n",
      "init comp\n",
      "degree done\n",
      "connected components done\n",
      "end init comp\n",
      "init comp\n",
      "degree done\n",
      "connected components done\n",
      "end init comp\n",
      "init comp\n",
      "degree done\n",
      "connected components done\n",
      "end init comp\n",
      "alpha:  1.5\n",
      "init comp\n",
      "degree done\n",
      "connected components done\n",
      "end init comp\n",
      "init comp\n",
      "degree done\n",
      "connected components done\n",
      "end init comp\n",
      "init comp\n",
      "degree done\n",
      "connected components done\n",
      "end init comp\n",
      "init comp\n",
      "degree done\n",
      "connected components done\n",
      "end init comp\n",
      "init comp\n",
      "degree done\n",
      "connected components done\n",
      "end init comp\n",
      "init comp\n",
      "degree done\n",
      "connected components done\n",
      "end init comp\n",
      "init comp\n",
      "degree done\n",
      "connected components done\n",
      "end init comp\n",
      "init comp\n",
      "degree done\n",
      "connected components done\n",
      "end init comp\n",
      "init comp\n",
      "degree done\n",
      "connected components done\n",
      "end init comp\n",
      "init comp\n",
      "degree done\n",
      "connected components done\n",
      "end init comp\n",
      "alpha:  2.0\n",
      "init comp\n",
      "degree done\n",
      "connected components done\n",
      "end init comp\n",
      "init comp\n",
      "degree done\n",
      "connected components done\n",
      "end init comp\n",
      "init comp\n",
      "degree done\n",
      "connected components done\n",
      "end init comp\n",
      "init comp\n",
      "degree done\n",
      "connected components done\n",
      "end init comp\n",
      "init comp\n",
      "degree done\n",
      "connected components done\n",
      "end init comp\n",
      "init comp\n",
      "degree done\n",
      "connected components done\n",
      "end init comp\n",
      "init comp\n",
      "degree done\n",
      "connected components done\n",
      "end init comp\n",
      "init comp\n",
      "degree done\n",
      "connected components done\n",
      "end init comp\n",
      "init comp\n",
      "degree done\n",
      "connected components done\n",
      "end init comp\n",
      "init comp\n",
      "degree done\n",
      "connected components done\n",
      "end init comp\n",
      "alpha:  2.5\n",
      "init comp\n",
      "degree done\n",
      "connected components done\n",
      "end init comp\n",
      "init comp\n",
      "degree done\n",
      "connected components done\n",
      "end init comp\n",
      "init comp\n",
      "degree done\n",
      "connected components done\n",
      "end init comp\n",
      "init comp\n",
      "degree done\n",
      "connected components done\n",
      "end init comp\n",
      "init comp\n",
      "degree done\n",
      "connected components done\n",
      "end init comp\n",
      "init comp\n",
      "degree done\n",
      "connected components done\n",
      "end init comp\n",
      "init comp\n",
      "degree done\n",
      "connected components done\n",
      "end init comp\n",
      "init comp\n",
      "degree done\n",
      "connected components done\n",
      "end init comp\n",
      "init comp\n",
      "degree done\n",
      "connected components done\n",
      "end init comp\n",
      "init comp\n",
      "degree done\n",
      "connected components done\n",
      "end init comp\n"
     ]
    }
   ],
   "source": [
    "if __name__ == '__main__':\n",
    "### run for a fixed network and fixed alpha\n",
    "##########################################\n",
    "\n",
    "    np.random.seed(0)\n",
    "\n",
    "    T = 10\n",
    "    epsilon = 0.001\n",
    "    alphavals = np.arange(0,3,0.5)\n",
    "    num_times = 10\n",
    "\n",
    "    n = len(G)\n",
    "    p = 0.4;\n",
    "    \n",
    "    avg_file_name = './vacc_albemarle_household_1_7_dec7_avg.txt'\n",
    "    raw_file_name = './vacc_albemarle_household_1_7_dec7_raw.txt' \n",
    "    \n",
    "    raw_data = []\n",
    "    exp_inf_list = []\n",
    "    exp_inf_std = []\n",
    "    n_vacc_size = []\n",
    "    xlist_alpha = {}\n",
    "\n",
    "    for alpha in alphavals:\n",
    "        zs = []\n",
    "        vacc_size = []\n",
    "        xlist = []\n",
    "        \n",
    "        print(\"alpha: \", alpha)\n",
    "\n",
    "        for i in range(num_times):\n",
    "            x = {}\n",
    "            Cvacc = {}\n",
    "            Cinf = {};\n",
    "            \n",
    "            for u in G.nodes():\n",
    "                x[u] = np.random.randint(0, 2)\n",
    "                Cinf[u] = 1; \n",
    "                Cvacc[u] = Cinf[u]*float(alpha)/n\n",
    "                \n",
    "            x, nviol = best_response_v2(G, Cvacc, Cinf, x, T, p, epsilon)\n",
    "\n",
    "            if(nviol == 0):\n",
    "                z = exp_infsize(G, x, p)\n",
    "                zs.append(z)\n",
    "\n",
    "                vaccinated = len([i for i in x if x[i] == 1])\n",
    "                vacc_size.append(vaccinated)\n",
    "                xlist.append(x)\n",
    "\n",
    "        n_vacc_size.append(vacc_size)\n",
    "        xlist_alpha[alpha] = xlist\n",
    "        \n",
    "        zs = np.array(zs)\n",
    "        exp_inf_list.append(zs.mean())\n",
    "        exp_inf_std.append(zs.std())\n",
    "    \n",
    "    n_vacc_size = np.array(n_vacc_size)\n"
   ]
  },
  {
   "cell_type": "code",
   "execution_count": 10,
   "metadata": {},
   "outputs": [],
   "source": [
    "import pandas as pd\n",
    "\n",
    "df = pd.read_csv('../data/Albe_demographics.csv')\n",
    "df['pid'] = df['pid'].astype(str)\n",
    "attrs = df.set_index('pid').to_dict('index')\n",
    "nx.set_node_attributes(G, attrs)\n"
   ]
  },
  {
   "cell_type": "code",
   "execution_count": 32,
   "metadata": {},
   "outputs": [],
   "source": [
    "def graph_boxplot(attribute_name):\n",
    "    attribute = nx.get_node_attributes(G, attribute_name)\n",
    "    plt.boxplot(attribute.values())\n",
    "    plt.xlabel('whole network')\n",
    "    plt.ylabel(attribute_name)\n",
    "    plt.show()\n",
    "\n",
    "def vaccinated_boxplot(attribute_name):\n",
    "    attribute = nx.get_node_attributes(G, attribute_name)\n",
    "    \n",
    "    for alpha in alphavals:\n",
    "        vaccinated = set()\n",
    "        for x in xlist_alpha[alpha]:\n",
    "            for k in x:\n",
    "                if x[k] == 1:\n",
    "                    vaccinated.add(k)\n",
    "        l = [attribute[i] for i in vaccinated]\n",
    "        plt.boxplot(l)\n",
    "    plt.xlabel('vaccinated nodes')\n",
    "    plt.ylabel(attribute_name)\n",
    "    plt.show()\n"
   ]
  },
  {
   "cell_type": "code",
   "execution_count": 33,
   "metadata": {},
   "outputs": [
    {
     "data": {
      "image/png": "[encoded data removed]",
      "text/plain": [
       "<Figure size 432x288 with 1 Axes>"
      ]
     },
     "metadata": {
      "needs_background": "light"
     },
     "output_type": "display_data"
    },
    {
     "data": {
      "image/png": "[encoded data removed]",
      "text/plain": [
       "<Figure size 432x288 with 1 Axes>"
      ]
     },
     "metadata": {
      "needs_background": "light"
     },
     "output_type": "display_data"
    }
   ],
   "source": [
    "graph_boxplot('hh_size'); vaccinated_boxplot('hh_size')"
   ]
  },
  {
   "cell_type": "code",
   "execution_count": 6,
   "metadata": {
    "tags": [
     "outputPrepend"
    ]
   },
   "outputs": [
    {
     "name": "stdout",
     "output_type": "stream",
     "text": [
      "[0.0, 0.0, 2.0205098932271677e-07, 4.6136703889155225e-06, 1.53284421350598e-05, 0.009334049230633969]\n",
      "[0.0, 0.0, 2.2814852209386423e-09, 7.830770803315284e-09, 5.151611539204541e-07, 0.00019701736880638212]\n"
     ]
    }
   ],
   "source": [
    "print(exp_inf_list)\n",
    "print(exp_inf_std)"
   ]
  },
  {
   "cell_type": "code",
   "execution_count": null,
   "metadata": {
    "tags": [
     "outputPrepend"
    ]
   },
   "outputs": [],
   "source": [
    "z4 = \n",
    "z4std ="
   ]
  },
  {
   "cell_type": "code",
   "execution_count": null,
   "metadata": {},
   "outputs": [],
   "source": [
    "print(n_vacc_size)"
   ]
  },
  {
   "cell_type": "code",
   "execution_count": 8,
   "metadata": {},
   "outputs": [
    {
     "name": "stdout",
     "output_type": "stream",
     "text": [
      "[131219.0, 131219.0, 127740.0, 80403.5, 70168.1, 62736.9]\n",
      "[0.0, 0.0, 39.28358435784596, 27.463612289718917, 74.20572754174708, 59.068519534520256]\n"
     ]
    }
   ],
   "source": [
    "n_num_vacc_list = np.array(n_vacc_size)\n",
    "vacc_mean = n_num_vacc_list.mean(axis = 1)\n",
    "vacc_std = n_num_vacc_list.std(axis = 1)\n",
    "\n",
    "print(list(vacc_mean))\n",
    "print(list(vacc_std))"
   ]
  },
  {
   "cell_type": "code",
   "execution_count": null,
   "metadata": {},
   "outputs": [],
   "source": [
    "vacc_mean = \n",
    "\n",
    "vacc_std = "
   ]
  },
  {
   "cell_type": "code",
   "execution_count": null,
   "metadata": {},
   "outputs": [],
   "source": [
    "# np.random.seed(0)\n",
    "# n = 1000; m = 2\n",
    "# G = nx.barabasi_albert_graph(n, m)\n",
    "\n",
    "# k = np.array(vacc_mean).astype(int)\n",
    "# topk_list = [get_topk_nodes(G, i) for i in k]\n",
    "\n",
    "# zs = []\n",
    "# for knodes in topk_list:\n",
    "#     x = {}\n",
    "#     for i in G.nodes: x[i] = 0\n",
    "#     for i in knodes: x[i] = 1\n",
    "\n",
    "#     z = exp_infsize(G, x, p)\n",
    "\n",
    "#     zs.append(z)"
   ]
  },
  {
   "cell_type": "code",
   "execution_count": null,
   "metadata": {},
   "outputs": [],
   "source": [
    "# set(topk_list[0])\n",
    "\n",
    "from util import *\n",
    "from strategy_vector_manipulator import *\n",
    "\n",
    "jaccard = []\n",
    "for x, knodes in zip(xx, topk_list[:17]):\n",
    "    vacc = get_provax(x)\n",
    "    v = intersect(set(vacc), set(knodes))\n",
    "    u = union(set(vacc), set(knodes))\n",
    "\n",
    "    jaccard.append(len(v)/len(u))\n",
    "\n",
    "plt.plot(jaccard, 'o-')\n",
    "plt.xlabel(r'$\\alpha$')\n",
    "plt.ylabel('Jaccard Index')\n",
    "\n",
    "plt.savefig('2_4_p4.pdf')"
   ]
  },
  {
   "cell_type": "code",
   "execution_count": null,
   "metadata": {},
   "outputs": [],
   "source": [
    "# '2.3  p = 0.4'\n",
    "# exp_inf = [z4]\n",
    "# zs\n",
    "# legend = ['(p = 0.4) Best-response NE ', ' (p = 0.4) Topk Nodes']\n",
    "\n",
    "# for y in exp_inf:\n",
    "#     plt.plot(alphavals, y, 'o-')\n",
    "#     plt.plot(alphavals, zs, 'o-')\n",
    "\n",
    "\n",
    "# plt.xlabel(r'$\\alpha$')\n",
    "# plt.ylabel('E[#inf]/n')\n",
    "# #ax.set_title('Montgomery county network')\n",
    "# plt.legend(legend)\n",
    "# plt.savefig('2_3_p4.pdf')"
   ]
  },
  {
   "cell_type": "code",
   "execution_count": null,
   "metadata": {},
   "outputs": [],
   "source": [
    "p4 = exp_inf_list\n",
    "exp_inf = [p4]\n",
    "legend = ['Best-response NE', 'Topk Nodes']\n",
    "\n",
    "for y in exp_inf:\n",
    "    plt.plot(alphavals, y, 'o-')\n",
    "\n",
    "    plt.plot(alphavals, zs, 'o-')\n",
    "\n",
    "\n",
    "plt.xlabel(r'$\\alpha$')\n",
    "plt.ylabel('E[#inf]')\n",
    "#ax.set_title('Montgomery county network')\n",
    "plt.legend(legend)\n",
    "plt.savefig('2_3_p4.pdf')"
   ]
  },
  {
   "cell_type": "code",
   "execution_count": null,
   "metadata": {},
   "outputs": [],
   "source": [
    "z = [z4]\n",
    "zstd = [z4std]\n",
    "legend = ['p = ' + str('%0.2f'%i) for i in [0.4]]\n",
    "for y in z:\n",
    "    plt.plot(alphavals, y, 'o-')\n",
    "\n",
    "plt.xlabel(r'$\\alpha$')\n",
    "plt.ylabel('E[#inf]')\n",
    "#ax.set_title('Montgomery county network')\n",
    "plt.legend(legend)\n",
    "#plt.savefig('out/montgomery_p0.0435.png')"
   ]
  },
  {
   "cell_type": "code",
   "execution_count": null,
   "metadata": {},
   "outputs": [],
   "source": [
    "z = [z4]\n",
    "zstd = [z4std]\n",
    "legend = ['p = ' + str('%0.2f'%i) for i in [0.4]]\n",
    "\n",
    "plt.errorbar(alphavals, vacc_mean, vacc_std, fmt='o-')\n",
    "\n",
    "plt.xlabel(r'$\\alpha$')\n",
    "plt.ylabel('#vacc')\n",
    "#ax.set_title('Montgomery county network')\n",
    "plt.legend(legend)\n",
    "plt.savefig('2_1_p4.pdf')"
   ]
  },
  {
   "cell_type": "code",
   "execution_count": null,
   "metadata": {},
   "outputs": [],
   "source": [
    "max([G.degree(v) for v in G.nodes()])"
   ]
  },
  {
   "cell_type": "code",
   "execution_count": null,
   "metadata": {},
   "outputs": [],
   "source": [
    "def compare_degree(s1):\n",
    "    a = [i[1] for i in s1.degree()]\n",
    "    a2 = collections.Counter(a)\n",
    "    a2v = list(a2.values())\n",
    "    \n",
    "    \n",
    "    plt.xlim(0,210)\n",
    "    plt.bar(a2.keys(), np.log(a2v), width = 1)\n",
    "    plt.xlabel(\"d\"); plt.ylabel(\"log(Frequency)\")\n",
    "    plt.title(\"Vaccinated nodes degree distribution\")\n",
    "    plt.savefig('degree_dist_vacc_NE.pdf')\n",
    "    plt.show()\n",
    "\n",
    "def compare_cc(s1):\n",
    "    a = [round(i,2) for i in nx.clustering(s1).values()]   #Round to 0.01,0.02,etc.\n",
    "    a2 = collections.Counter(a)\n",
    "    a2v = list(a2.values())\n",
    "    plt.bar(a2.keys(), np.log(a2v),width=0.01)\n",
    "    plt.xlabel(\"Clustering Coefficient\"); plt.ylabel(\"log(Frequency)\")\n",
    "    plt.title(\"Vaccinated nodes clustering coefficient\")\n",
    "    plt.savefig('cc_dist_vacc_NE.pdf')\n",
    "    plt.show()\n",
    "\n"
   ]
  },
  {
   "cell_type": "code",
   "execution_count": null,
   "metadata": {},
   "outputs": [],
   "source": [
    "import collections\n",
    "from util import *\n",
    "from strategy_vector_manipulator import *\n",
    "\n",
    "v10 = set(get_provax(xx[0]))\n",
    "heh1 = G.subgraph(v10)\n",
    "compare_degree(heh1)\n",
    "compare_cc(heh1)\n",
    "\n"
   ]
  },
  {
   "cell_type": "code",
   "execution_count": null,
   "metadata": {},
   "outputs": [],
   "source": [
    "compare_degree(G)\n",
    "plt.savefig('degree_dist_vacc_NE.pdf')"
   ]
  },
  {
   "cell_type": "code",
   "execution_count": null,
   "metadata": {},
   "outputs": [],
   "source": []
  },
  {
   "cell_type": "code",
   "execution_count": null,
   "metadata": {},
   "outputs": [],
   "source": []
  },
  {
   "cell_type": "code",
   "execution_count": null,
   "metadata": {},
   "outputs": [],
   "source": []
  },
  {
   "cell_type": "code",
   "execution_count": null,
   "metadata": {},
   "outputs": [],
   "source": []
  },
  {
   "cell_type": "code",
   "execution_count": null,
   "metadata": {},
   "outputs": [],
   "source": [
    "hhs = nx.get_node_attributes(G, 'hh_size')\n",
    "\n",
    "count = {}\n",
    "\n",
    "for u in G.nodes:\n",
    "    if hhs[u] not in count:\n",
    "        count[hhs[u]] = 0\n",
    "    count[hhs[u]] += 1\n",
    "\n",
    "y = np.array(list(count.values()))/len(G.nodes)\n",
    "    \n",
    "plt.bar(count.keys(),  y)\n",
    "\n",
    "## plot for the whole graph"
   ]
  },
  {
   "cell_type": "code",
   "execution_count": null,
   "metadata": {},
   "outputs": [],
   "source": [
    "hhs = nx.get_node_attributes(G, 'hh_size')\n",
    "\n",
    "hh_count = {}\n",
    "for x in xx:\n",
    "    for u in x.keys():\n",
    "        if(x[u] == 1):\n",
    "            if hhs[u] not in hh_count.keys():\n",
    "                hh_count[hhs[u]] = 1\n",
    "            else:\n",
    "                hh_count[hhs[u]] += 1\n",
    "        \n",
    "    "
   ]
  },
  {
   "cell_type": "code",
   "execution_count": null,
   "metadata": {},
   "outputs": [],
   "source": [
    "for i in hh_count:\n",
    "    hh_count[i] /= len(xx)"
   ]
  },
  {
   "cell_type": "code",
   "execution_count": null,
   "metadata": {},
   "outputs": [],
   "source": [
    "keys = hh_count.keys()\n",
    "values = hh_count.values()\n",
    "\n",
    "plt.bar(keys, values)\n",
    "plt.ylabel('household_size')\n",
    "plt.savefig('hist_household_size_vacc_NE.pdf')"
   ]
  },
  {
   "cell_type": "code",
   "execution_count": null,
   "metadata": {},
   "outputs": [],
   "source": [
    "ag = nx.get_node_attributes(G, 'age_group')\n",
    "# ag"
   ]
  },
  {
   "cell_type": "code",
   "execution_count": null,
   "metadata": {},
   "outputs": [],
   "source": [
    "ag = nx.get_node_attributes(G, 'age_group')\n",
    "\n",
    "ag_count = {}\n",
    "for x in xlist_alpha[10]:\n",
    "    for u in x.keys():\n",
    "        if(x[u] == 1):\n",
    "            if ag[u] not in ag_count:\n",
    "                ag_count[ag[u]] = 1\n",
    "            else:\n",
    "                ag_count[ag[u]] += 1"
   ]
  },
  {
   "cell_type": "code",
   "execution_count": null,
   "metadata": {},
   "outputs": [],
   "source": [
    "keys = ag_count.keys()\n",
    "values = ag_count.values()\n",
    "\n",
    "print(keys)\n",
    "\n",
    "plt.bar(keys, values)\n"
   ]
  },
  {
   "cell_type": "code",
   "execution_count": null,
   "metadata": {},
   "outputs": [],
   "source": [
    "ag = nx.get_node_attributes(G, 'age_group')\n",
    "\n",
    "count = {}\n",
    "\n",
    "for u in G.nodes:\n",
    "    if(u not in ag):\n",
    "        continue\n",
    "    if ag[u] not in count:\n",
    "        count[ag[u]] = 0\n",
    "    count[ag[u]] += 1\n",
    "\n",
    "plt.bar(count.keys(), count.values())\n",
    "plt.savefig('hist_age_group_vacc_NE.pdf')"
   ]
  },
  {
   "cell_type": "code",
   "execution_count": null,
   "metadata": {},
   "outputs": [],
   "source": [
    "len(G.nodes)"
   ]
  },
  {
   "cell_type": "code",
   "execution_count": null,
   "metadata": {},
   "outputs": [],
   "source": [
    "hhi = nx.get_node_attributes(G, 'hh_income')\n",
    "\n",
    "\n",
    "income = []\n",
    "for x in xx:\n",
    "    for u in x.keys():\n",
    "        if( u in hhi.keys() and x[u] == 1):\n",
    "            income.append(hhi[u])\n",
    "    "
   ]
  },
  {
   "cell_type": "code",
   "execution_count": null,
   "metadata": {},
   "outputs": [],
   "source": [
    "plt.hist(income)\n",
    "plt.ylabel('income')\n",
    "plt.savefig('hist_income_vacc_NE.pdf')"
   ]
  },
  {
   "cell_type": "code",
   "execution_count": null,
   "metadata": {},
   "outputs": [],
   "source": [
    "plt.hist([hhi[i] for i in hhi])"
   ]
  },
  {
   "cell_type": "code",
   "execution_count": null,
   "metadata": {},
   "outputs": [],
   "source": [
    "es = nx.get_node_attributes(G, 'employment_status')\n",
    "\n",
    "\n",
    "employ = []\n",
    "for x in xx:\n",
    "    for u in x.keys():\n",
    "        if( u in es.keys() and x[u] == 1):\n",
    "            employ.append(es[u])"
   ]
  },
  {
   "cell_type": "code",
   "execution_count": null,
   "metadata": {},
   "outputs": [],
   "source": [
    "plt.hist(employ)\n",
    "plt.ylabel('employment status')\n",
    "\n",
    "plt.savefig('hist_employment_status_NE.pdf')"
   ]
  },
  {
   "cell_type": "code",
   "execution_count": null,
   "metadata": {},
   "outputs": [],
   "source": [
    "plt.hist([es[i] for i in es])"
   ]
  },
  {
   "cell_type": "code",
   "execution_count": null,
   "metadata": {},
   "outputs": [],
   "source": []
  },
  {
   "cell_type": "code",
   "execution_count": null,
   "metadata": {},
   "outputs": [],
   "source": []
  }
 ],
 "metadata": {
  "kernelspec": {
   "display_name": "Python 3",
   "language": "python",
   "name": "python3"
  },
  "language_info": {
   "codemirror_mode": {
    "name": "ipython",
    "version": 3
   },
   "file_extension": ".py",
   "mimetype": "text/x-python",
   "name": "python",
   "nbconvert_exporter": "python",
   "pygments_lexer": "ipython3",
   "version": "3.7.4"
  }
 },
 "nbformat": 4,
 "nbformat_minor": 4
}
