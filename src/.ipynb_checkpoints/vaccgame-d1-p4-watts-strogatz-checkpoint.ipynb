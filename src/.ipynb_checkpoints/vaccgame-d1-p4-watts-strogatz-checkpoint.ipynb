{
 "cells": [
  {
   "cell_type": "code",
   "execution_count": 5,
   "metadata": {},
   "outputs": [],
   "source": [
    "import numpy as np\n",
    "import networkx as nx\n",
    "import EoN\n",
    "import matplotlib.pyplot as plt\n",
    "import csv, random, pdb, sys\n",
    "from IPython.core.debugger import set_trace\n",
    "import copy\n",
    "import pickle as pkl"
   ]
  },
  {
   "cell_type": "code",
   "execution_count": 6,
   "metadata": {},
   "outputs": [],
   "source": [
    "sys.path.insert(0, '../lib/')"
   ]
  },
  {
   "cell_type": "code",
   "execution_count": 7,
   "metadata": {},
   "outputs": [],
   "source": [
    "from util import *\n",
    "from graph_utils import *"
   ]
  },
  {
   "cell_type": "code",
   "execution_count": 8,
   "metadata": {},
   "outputs": [
    {
     "data": {
      "text/plain": [
       "10000"
      ]
     },
     "execution_count": 8,
     "metadata": {},
     "output_type": "execute_result"
    }
   ],
   "source": [
    "G = nx.generators.random_graphs.watts_strogatz_graph(10000, 20, 0.3)\n",
    "len(G)"
   ]
  },
  {
   "cell_type": "code",
   "execution_count": null,
   "metadata": {
    "collapsed": true,
    "jupyter": {
     "outputs_hidden": true
    }
   },
   "outputs": [
    {
     "name": "stdout",
     "output_type": "stream",
     "text": [
      "alpha:  0.0\n",
      "init comp\n",
      "degree done\n",
      "connected components done\n",
      "end init comp\n",
      "init comp\n",
      "degree done\n",
      "connected components done\n",
      "end init comp\n",
      "init comp\n",
      "degree done\n",
      "connected components done\n",
      "end init comp\n",
      "init comp\n",
      "degree done\n",
      "connected components done\n",
      "end init comp\n",
      "init comp\n",
      "degree done\n",
      "connected components done\n",
      "end init comp\n",
      "init comp\n",
      "degree done\n",
      "connected components done\n",
      "end init comp\n",
      "init comp\n",
      "degree done\n",
      "connected components done\n",
      "end init comp\n",
      "init comp\n",
      "degree done\n",
      "connected components done\n",
      "end init comp\n",
      "init comp\n",
      "degree done\n",
      "connected components done\n",
      "end init comp\n",
      "init comp\n",
      "degree done\n",
      "connected components done\n",
      "end init comp\n",
      "alpha:  0.5\n",
      "init comp\n",
      "degree done\n",
      "connected components done\n",
      "end init comp\n",
      "init comp\n",
      "degree done\n",
      "connected components done\n",
      "end init comp\n",
      "init comp\n",
      "degree done\n",
      "connected components done\n",
      "end init comp\n",
      "init comp\n",
      "degree done\n",
      "connected components done\n",
      "end init comp\n",
      "init comp\n",
      "degree done\n",
      "connected components done\n",
      "end init comp\n",
      "init comp\n",
      "degree done\n",
      "connected components done\n",
      "end init comp\n",
      "init comp\n",
      "degree done\n",
      "connected components done\n",
      "end init comp\n",
      "init comp\n",
      "degree done\n",
      "connected components done\n",
      "end init comp\n",
      "init comp\n",
      "degree done\n",
      "connected components done\n",
      "end init comp\n",
      "init comp\n",
      "degree done\n",
      "connected components done\n",
      "end init comp\n",
      "alpha:  1.0\n",
      "init comp\n",
      "degree done\n",
      "connected components done\n",
      "end init comp\n",
      "init comp\n",
      "degree done\n",
      "connected components done\n",
      "end init comp\n",
      "init comp\n",
      "degree done\n",
      "connected components done\n",
      "end init comp\n",
      "init comp\n",
      "degree done\n",
      "connected components done\n",
      "end init comp\n",
      "init comp\n",
      "degree done\n",
      "connected components done\n",
      "end init comp\n",
      "init comp\n",
      "degree done\n",
      "connected components done\n",
      "end init comp\n",
      "init comp\n",
      "degree done\n",
      "connected components done\n",
      "end init comp\n",
      "init comp\n",
      "degree done\n",
      "connected components done\n",
      "end init comp\n",
      "init comp\n",
      "degree done\n",
      "connected components done\n",
      "end init comp\n",
      "init comp\n",
      "degree done\n",
      "connected components done\n",
      "end init comp\n",
      "alpha:  1.5\n",
      "init comp\n",
      "degree done\n",
      "connected components done\n",
      "end init comp\n",
      "init comp\n",
      "degree done\n",
      "connected components done\n",
      "end init comp\n",
      "init comp\n",
      "degree done\n",
      "connected components done\n",
      "end init comp\n",
      "init comp\n",
      "degree done\n",
      "connected components done\n",
      "end init comp\n",
      "init comp\n",
      "degree done\n",
      "connected components done\n",
      "end init comp\n",
      "init comp\n",
      "degree done\n",
      "connected components done\n",
      "end init comp\n",
      "init comp\n",
      "degree done\n",
      "connected components done\n",
      "end init comp\n",
      "init comp\n",
      "degree done\n",
      "connected components done\n",
      "end init comp\n",
      "init comp\n",
      "degree done\n",
      "connected components done\n",
      "end init comp\n",
      "init comp\n",
      "degree done\n",
      "connected components done\n",
      "end init comp\n",
      "alpha:  2.0\n",
      "init comp\n",
      "degree done\n",
      "connected components done\n",
      "end init comp\n",
      "init comp\n",
      "degree done\n",
      "connected components done\n",
      "end init comp\n",
      "init comp\n",
      "degree done\n",
      "connected components done\n",
      "end init comp\n",
      "init comp\n",
      "degree done\n",
      "connected components done\n",
      "end init comp\n",
      "init comp\n",
      "degree done\n",
      "connected components done\n",
      "end init comp\n",
      "init comp\n",
      "degree done\n",
      "connected components done\n",
      "end init comp\n",
      "init comp\n",
      "degree done\n",
      "connected components done\n",
      "end init comp\n",
      "init comp\n",
      "degree done\n",
      "connected components done\n",
      "end init comp\n",
      "init comp\n",
      "degree done\n",
      "connected components done\n",
      "end init comp\n",
      "init comp\n",
      "degree done\n",
      "connected components done\n",
      "end init comp\n",
      "alpha:  2.5\n",
      "init comp\n",
      "degree done\n",
      "connected components done\n",
      "end init comp\n",
      "init comp\n",
      "degree done\n",
      "connected components done\n",
      "end init comp\n"
     ]
    }
   ],
   "source": [
    "if __name__ == '__main__':\n",
    "### run for a fixed network and fixed alpha\n",
    "##########################################\n",
    "\n",
    "    np.random.seed(0)\n",
    "\n",
    "    T = 10\n",
    "    epsilon = 0.001\n",
    "    alphavals = np.arange(0,50,0.5)\n",
    "    num_times = 10\n",
    "\n",
    "    n = len(G)\n",
    "    p = 0.4\n",
    "    \n",
    "    raw_data = []\n",
    "    exp_inf_list = []\n",
    "    exp_inf_std = []\n",
    "    n_vacc_size = []\n",
    "    xlist_alpha = {}\n",
    "    ts = {}\n",
    "    for alpha in alphavals:\n",
    "        zs = []\n",
    "        vacc_size = []\n",
    "        xlist = []\n",
    "        ts[alpha] = []\n",
    "        \n",
    "        print(\"alpha: \", alpha)\n",
    "\n",
    "        for i in range(num_times):\n",
    "            x = {}\n",
    "            Cvacc = {}\n",
    "            Cinf = {};\n",
    "            \n",
    "            for u in G.nodes():\n",
    "                x[u] = np.random.randint(0, 2)\n",
    "                Cinf[u] = 1; \n",
    "                Cvacc[u] = Cinf[u]*float(alpha)/n\n",
    "                \n",
    "            x, nviol, t = best_response_v2(G, Cvacc, Cinf, x, T, p, epsilon)\n",
    "\n",
    "            if(nviol == 0):\n",
    "                \n",
    "                ts[alpha].append(t)\n",
    "                \n",
    "                z = exp_infsize(G, x, p)\n",
    "                zs.append(z)\n",
    "                \n",
    "                vaccinated = len([i for i in x if x[i] == 1])\n",
    "                vacc_size.append(vaccinated)\n",
    "                xlist.append(x)\n",
    "\n",
    "        n_vacc_size.append(vacc_size)\n",
    "        xlist_alpha[alpha] = xlist\n",
    "        \n",
    "        zs = np.array(zs)\n",
    "        exp_inf_list.append(zs.mean())\n",
    "        exp_inf_std.append(zs.std())\n",
    "    \n",
    "    n_vacc_size = np.array(n_vacc_size)\n"
   ]
  },
  {
   "cell_type": "code",
   "execution_count": null,
   "metadata": {
    "tags": [
     "outputPrepend"
    ]
   },
   "outputs": [],
   "source": [
    "print(exp_inf_list)\n",
    "print(exp_inf_std)"
   ]
  },
  {
   "cell_type": "code",
   "execution_count": null,
   "metadata": {
    "tags": [
     "outputPrepend"
    ]
   },
   "outputs": [],
   "source": [
    "z4 = [0.0, 0.0, 0.0, 4.704328e-05, 0.0002973126, 0.04307919602, 0.11432883842, 0.22661864104, 0.275140623, 0.32527650468, 0.37716552486000005, 0.48880102149999993, 0.5497612232, 0.6139015285999998, 0.68159300514, 0.8123265764800003, 0.8741158605000001, 0.9205338354200002, 0.9558170958799999, 0.9908506625000001, 0.9966151167399998, 0.99912982092, 0.9997298385599998, 0.9998508202600007, 0.9998626185800006, 0.9998600185800006, 0.9998694172800006, 0.9998572195800006, 0.9998634183600007, 0.9998530202600007, 0.9998690175400006, 0.9998600185800004, 0.9998568194400004, 0.9998606184000005, 0.9998632185600005, 0.9998648183800005, 0.9998630175800006, 0.9998598189200006, 0.9998602188400006, 0.9998692171200005, 0.9998538206000006, 0.9998658181000006, 0.9998648177200005, 0.9998626185800005, 0.9998638179600003, 0.9998592188800005, 0.9998700172200005, 0.9998566196000006, 0.9998638180600006, 0.9998656184600005, 0.9998630180000007, 0.9998570193200005, 0.9998600191800007, 0.9998726165800005, 0.9998684174400004, 0.9998662175800005, 0.9998558197200007, 0.9998644178200007, 0.9998596187000006, 0.9998706164800005, 0.9998556194000006, 0.9998612185800004, 0.9998604193200006, 0.9998638186600004, 0.9998644181200007, 0.9998648179000005, 0.9998600191200004, 0.9998582191200006, 0.9998662177200005, 0.9998566199800004, 0.9998568192400006, 0.9998568193200006, 0.9998642180400006, 0.9998498204200006, 0.9998644182600005, 0.9998510204600006, 0.9998654182400004, 0.9998560196000007, 0.9998696176200005, 0.9998576196800005, 0.9998630185600007, 0.9998610188000006, 0.9998644180400007, 0.9998670182000005, 0.9998594194000006, 0.9998694172400004, 0.9998624188000006, 0.9998676175000005, 0.9998606196400006, 0.9998562199400005, 0.9998564197200006, 0.9998600184800004, 0.9998524202000004, 0.9998636186200006, 0.9998592190200005, 0.9998618186600007, 0.9998560198400007, 0.9998614185800007, 0.9998676170600007, 0.9998536204200006]\n",
    "z4std = [0.0, 0.0, 0.0, 5.688644281373197e-07, 2.0318151055251028e-05, 0.0016600018881599938, 0.0012000198299412798, 0.0023566809828658828, 0.002342002070887058, 0.0032931680749210225, 0.002632303977410065, 0.0016033918233876127, 0.002947451312742683, 0.002534828973191089, 0.00373358646943717, 0.0026391801458283243, 0.003446224153223115, 0.0021144341101338314, 0.0016808321182945187, 0.0012935107649740736, 0.00096289993934545, 0.00027165124659737233, 0.00014520336795109475, 1.597749891209838e-05, 1.3265719343400082e-05, 1.3143287450355606e-05, 1.0237555359374321e-05, 1.4563031809424924e-05, 1.777463479167679e-05, 1.4203322354969657e-05, 9.130859928827364e-06, 2.035320353578398e-05, 1.4060265402785557e-05, 2.0666371040428764e-05, 1.2397868417642439e-05, 1.008622201716112e-05, 9.683621363244212e-06, 1.1811593131894383e-05, 1.5629256925806424e-05, 1.9038187951792344e-05, 1.640280256537851e-05, 1.5781859492961747e-05, 1.4563303696913765e-05, 1.433792282116355e-05, 2.071279789664349e-05, 2.1615334811667515e-05, 1.3997671439296806e-05, 1.8823742700042094e-05, 1.3809449986406277e-05, 1.5380131923458643e-05, 1.3391582674771282e-05, 1.0741124816344081e-05, 1.3825133857247508e-05, 1.5360831750710815e-05, 1.3819605391079599e-05, 1.524079311959655e-05, 1.3397903322927187e-05, 1.2672956527137712e-05, 1.232033459256093e-05, 1.2360827977173342e-05, 1.3497715512705044e-05, 1.7979214062714188e-05, 1.4442096467803653e-05, 1.2910976368636653e-05, 1.0109836147441707e-05, 1.197154639874337e-05, 1.790791583251377e-05, 2.4790207138583722e-05, 1.7602573733161378e-05, 1.7479419761374094e-05, 2.2890508794582484e-05, 9.172692619835676e-06, 2.004546025502603e-05, 2.0538086119583028e-05, 1.5740583174403172e-05, 1.8678487352232975e-05, 1.7548389555604617e-05, 1.913792293552934e-05, 1.4219094940030012e-05, 1.1857904814572532e-05, 1.3890330650225039e-05, 1.1804992341247373e-05, 1.0344276271478774e-05, 1.0666219693192799e-05, 1.2805708294932205e-05, 1.8219072906285e-05, 9.665240941810094e-06, 1.068655623113671e-05, 1.5745692933079073e-05, 2.6864739077584373e-05, 1.421882379214092e-05, 1.3264313224320494e-05, 1.5458512440131124e-05, 1.7992468028828126e-05, 1.9819892117145637e-05, 1.9478998827802984e-05, 1.5281921544535897e-05, 1.4028045475049128e-05, 1.1789767236355364e-05, 1.289087517970334e-05]"
   ]
  },
  {
   "cell_type": "code",
   "execution_count": null,
   "metadata": {},
   "outputs": [],
   "source": [
    "# print(n_vacc_size)"
   ]
  },
  {
   "cell_type": "code",
   "execution_count": null,
   "metadata": {},
   "outputs": [],
   "source": [
    "n_num_vacc_list = np.array(n_vacc_size)\n",
    "vacc_mean = n_num_vacc_list.mean(axis = 1)\n",
    "vacc_std = n_num_vacc_list.std(axis = 1)\n",
    "# print(list(vacc_mean))\n",
    "# print(list(vacc_std))"
   ]
  },
  {
   "cell_type": "code",
   "execution_count": null,
   "metadata": {},
   "outputs": [],
   "source": [
    "vacc_mean = [10000.0, 10000.0, 10000.0, 7716.5, 7030.7, 6449.6, 5948.4, 5032.2, 4624.9, 4215.0, 3806.9, 2987.0, 2571.8, 2156.0, 1738.7, 984.6, 649.0, 404.4, 222.5, 45.1, 16.2, 3.7, 0.6, 0.0, 0.0, 0.0, 0.0, 0.0, 0.0, 0.0, 0.0, 0.0, 0.0, 0.0, 0.0, 0.0, 0.0, 0.0, 0.0, 0.0, 0.0, 0.0, 0.0, 0.0, 0.0, 0.0, 0.0, 0.0, 0.0, 0.0, 0.0, 0.0, 0.0, 0.0, 0.0, 0.0, 0.0, 0.0, 0.0, 0.0, 0.0, 0.0, 0.0, 0.0, 0.0, 0.0, 0.0, 0.0, 0.0, 0.0, 0.0, 0.0, 0.0, 0.0, 0.0, 0.0, 0.0, 0.0, 0.0, 0.0, 0.0, 0.0, 0.0, 0.0, 0.0, 0.0, 0.0, 0.0, 0.0, 0.0, 0.0, 0.0, 0.0, 0.0, 0.0, 0.0, 0.0, 0.0, 0.0, 0.0]\n",
    "vacc_std = [0.0, 0.0, 0.0, 8.663140308225419, 14.422551785311779, 7.565712127751095, 11.208925015361642, 20.70169075220669, 20.383571816538925, 26.784323773431353, 19.7, 10.945318634009702, 19.903768487399567, 15.84929020492716, 22.539077177204923, 14.60958589419974, 18.45535152740256, 10.938007131100255, 8.570297544426332, 6.487680633323438, 4.853864439804639, 1.345362404707371, 0.66332495807108, 0.0, 0.0, 0.0, 0.0, 0.0, 0.0, 0.0, 0.0, 0.0, 0.0, 0.0, 0.0, 0.0, 0.0, 0.0, 0.0, 0.0, 0.0, 0.0, 0.0, 0.0, 0.0, 0.0, 0.0, 0.0, 0.0, 0.0, 0.0, 0.0, 0.0, 0.0, 0.0, 0.0, 0.0, 0.0, 0.0, 0.0, 0.0, 0.0, 0.0, 0.0, 0.0, 0.0, 0.0, 0.0, 0.0, 0.0, 0.0, 0.0, 0.0, 0.0, 0.0, 0.0, 0.0, 0.0, 0.0, 0.0, 0.0, 0.0, 0.0, 0.0, 0.0, 0.0, 0.0, 0.0, 0.0, 0.0, 0.0, 0.0, 0.0, 0.0, 0.0, 0.0, 0.0, 0.0, 0.0, 0.0]"
   ]
  },
  {
   "cell_type": "code",
   "execution_count": null,
   "metadata": {},
   "outputs": [],
   "source": [
    "k = np.array(vacc_mean).astype(int)\n",
    "zs, topk_list =  get_topk_exp_infsize(G, k) ## sorted by alpha\n",
    "jaccard_mean, jaccard_std = plot_jaccard(alphavals, xlist_alpha, topk_list)"
   ]
  },
  {
   "cell_type": "code",
   "execution_count": null,
   "metadata": {},
   "outputs": [],
   "source": [
    "legend = ['Best-response NE', 'Topk Nodes']\n",
    "plt.plot(alphavals, z4, 'o-')\n",
    "plt.plot(alphavals, zs, 'o-')\n",
    "plt.xlabel(r'$\\alpha$')\n",
    "plt.ylabel('E[#inf]')\n",
    "plt.legend(legend)\n",
    "plt.show()"
   ]
  },
  {
   "cell_type": "code",
   "execution_count": null,
   "metadata": {},
   "outputs": [],
   "source": [
    "z = [z4]\n",
    "zstd = [z4std]\n",
    "legend = ['p = ' + str('%0.2f'%i) for i in [0.4]]\n",
    "for y, ystd in zip(z,zstd):\n",
    "    plt.errorbar(alphavals, y, ystd, fmt = 'o-')\n",
    "plt.xlabel(r'$\\alpha$')\n",
    "plt.ylabel('E[#inf]')\n",
    "plt.legend(legend)\n",
    "plt.show()"
   ]
  },
  {
   "cell_type": "code",
   "execution_count": null,
   "metadata": {},
   "outputs": [],
   "source": [
    "z = [z4]\n",
    "zstd = [z4std]\n",
    "legend = ['p = ' + str('%0.2f'%i) for i in [0.4]]\n",
    "plt.errorbar(alphavals, vacc_mean, vacc_std, fmt='o-')\n",
    "plt.xlabel(r'$\\alpha$')\n",
    "plt.ylabel('#vacc')\n",
    "plt.legend(legend)\n",
    "plt.show()"
   ]
  },
  {
   "cell_type": "code",
   "execution_count": null,
   "metadata": {},
   "outputs": [],
   "source": [
    "max([G.degree(v) for v in G.nodes()])"
   ]
  },
  {
   "cell_type": "code",
   "execution_count": null,
   "metadata": {},
   "outputs": [],
   "source": [
    "compare_degree(G, 'whole graph ')\n",
    "compare_cc(G, 'whole graph ')"
   ]
  },
  {
   "cell_type": "code",
   "execution_count": null,
   "metadata": {},
   "outputs": [],
   "source": [
    "for alpha in range(15):\n",
    "    v = set(get_provax(xlist_alpha[alpha][0]))\n",
    "    s = G.subgraph(v)\n",
    "\n",
    "    compare_degree(s, 'vaccinated nodes alpha: ' + str(alpha))\n",
    "    compare_cc(s, 'vaccinated nodes alpha: ' + str(alpha))"
   ]
  },
  {
   "cell_type": "code",
   "execution_count": null,
   "metadata": {},
   "outputs": [],
   "source": []
  }
 ],
 "metadata": {
  "kernelspec": {
   "display_name": "Python 3",
   "language": "python",
   "name": "python3"
  },
  "language_info": {
   "codemirror_mode": {
    "name": "ipython",
    "version": 3
   },
   "file_extension": ".py",
   "mimetype": "text/x-python",
   "name": "python",
   "nbconvert_exporter": "python",
   "pygments_lexer": "ipython3",
   "version": "3.7.4"
  }
 },
 "nbformat": 4,
 "nbformat_minor": 4
}
