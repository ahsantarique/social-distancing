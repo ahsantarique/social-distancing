{
 "cells": [
  {
   "cell_type": "code",
   "execution_count": 8,
   "metadata": {},
   "outputs": [],
   "source": [
    "import numpy as np\n",
    "import networkx as nx\n",
    "import EoN\n",
    "import matplotlib.pyplot as plt\n",
    "import csv, random, pdb, sys\n",
    "from IPython.core.debugger import set_trace\n",
    "import copy\n",
    "import pickle as pkl"
   ]
  },
  {
   "cell_type": "code",
   "execution_count": 9,
   "metadata": {},
   "outputs": [],
   "source": [
    "sys.path.insert(0, '../lib/')"
   ]
  },
  {
   "cell_type": "code",
   "execution_count": 10,
   "metadata": {},
   "outputs": [],
   "source": [
    "from util import *\n",
    "from graph_utils import *"
   ]
  },
  {
   "cell_type": "code",
   "execution_count": 11,
   "metadata": {},
   "outputs": [
    {
     "data": {
      "text/plain": [
       "131219"
      ]
     },
     "execution_count": 11,
     "metadata": {},
     "output_type": "execute_result"
    }
   ],
   "source": [
    "graph_file = '../data/household_undirected_albe_1.90.txt'\n",
    "G = read_graph(graph_file)\n",
    "\n",
    "len(G)"
   ]
  },
  {
   "cell_type": "code",
   "execution_count": 12,
   "metadata": {},
   "outputs": [],
   "source": [
    "import pandas as pd\n",
    "\n",
    "df = pd.read_csv('../data/Albe_demographics.csv')\n",
    "df['pid'] = df['pid'].astype(str)\n",
    "attrs = df.set_index('pid').to_dict('index')\n",
    "nx.set_node_attributes(G, attrs)\n"
   ]
  },
  {
   "cell_type": "code",
   "execution_count": 13,
   "metadata": {},
   "outputs": [
    {
     "name": "stdout",
     "output_type": "stream",
     "text": [
      "1595\n"
     ]
    }
   ],
   "source": [
    "hh_size = nx.get_node_attributes(G,'hh_size')\n",
    "hh_income = nx.get_node_attributes(G,'hh_income')\n",
    "\n",
    "c = [i for i in hh_income if hh_income[i] == 0]\n",
    "print(len(c))\n",
    "\n",
    "lowest = 10000\n",
    "for i in hh_income:\n",
    "    if hh_income[i] < lowest:\n",
    "        hh_income[i] = lowest"
   ]
  },
  {
   "cell_type": "code",
   "execution_count": null,
   "metadata": {
    "collapsed": true,
    "jupyter": {
     "outputs_hidden": true
    }
   },
   "outputs": [
    {
     "name": "stdout",
     "output_type": "stream",
     "text": [
      "alpha:  100000.0\n",
      "init comp\n",
      "degree done\n",
      "connected components done\n",
      "end init comp\n",
      "init comp\n",
      "degree done\n",
      "connected components done\n",
      "end init comp\n",
      "init comp\n",
      "degree done\n",
      "connected components done\n",
      "end init comp\n",
      "init comp\n",
      "degree done\n",
      "connected components done\n",
      "end init comp\n",
      "init comp\n",
      "degree done\n",
      "connected components done\n",
      "end init comp\n",
      "init comp\n",
      "degree done\n",
      "connected components done\n",
      "end init comp\n",
      "init comp\n",
      "degree done\n",
      "connected components done\n",
      "end init comp\n",
      "init comp\n",
      "degree done\n",
      "connected components done\n",
      "end init comp\n",
      "init comp\n",
      "degree done\n",
      "connected components done\n",
      "end init comp\n",
      "init comp\n",
      "degree done\n",
      "connected components done\n",
      "end init comp\n",
      "alpha:  200000.0\n",
      "init comp\n",
      "degree done\n",
      "connected components done\n",
      "end init comp\n",
      "init comp\n",
      "degree done\n",
      "connected components done\n",
      "end init comp\n",
      "init comp\n",
      "degree done\n",
      "connected components done\n",
      "end init comp\n",
      "init comp\n",
      "degree done\n",
      "connected components done\n",
      "end init comp\n",
      "init comp\n",
      "degree done\n",
      "connected components done\n",
      "end init comp\n",
      "init comp\n",
      "degree done\n",
      "connected components done\n",
      "end init comp\n",
      "init comp\n",
      "degree done\n",
      "connected components done\n",
      "end init comp\n",
      "init comp\n",
      "degree done\n",
      "connected components done\n",
      "end init comp\n",
      "init comp\n",
      "degree done\n",
      "connected components done\n",
      "end init comp\n",
      "init comp\n",
      "degree done\n",
      "connected components done\n",
      "end init comp\n",
      "alpha:  300000.0\n",
      "init comp\n",
      "degree done\n",
      "connected components done\n",
      "end init comp\n",
      "init comp\n",
      "degree done\n",
      "connected components done\n",
      "end init comp\n",
      "init comp\n",
      "degree done\n",
      "connected components done\n",
      "end init comp\n",
      "init comp\n",
      "degree done\n",
      "connected components done\n",
      "end init comp\n",
      "init comp\n",
      "degree done\n",
      "connected components done\n",
      "end init comp\n",
      "init comp\n",
      "degree done\n",
      "connected components done\n",
      "end init comp\n",
      "init comp\n",
      "degree done\n",
      "connected components done\n",
      "end init comp\n",
      "init comp\n",
      "degree done\n",
      "connected components done\n",
      "end init comp\n",
      "init comp\n",
      "degree done\n",
      "connected components done\n",
      "end init comp\n",
      "init comp\n",
      "degree done\n",
      "connected components done\n",
      "end init comp\n",
      "alpha:  400000.0\n",
      "init comp\n",
      "degree done\n",
      "connected components done\n",
      "end init comp\n",
      "init comp\n",
      "degree done\n",
      "connected components done\n",
      "end init comp\n",
      "init comp\n",
      "degree done\n",
      "connected components done\n",
      "end init comp\n",
      "init comp\n",
      "degree done\n",
      "connected components done\n",
      "end init comp\n",
      "init comp\n",
      "degree done\n",
      "connected components done\n",
      "end init comp\n",
      "init comp\n",
      "degree done\n",
      "connected components done\n",
      "end init comp\n",
      "init comp\n",
      "degree done\n",
      "connected components done\n",
      "end init comp\n",
      "init comp\n",
      "degree done\n",
      "connected components done\n",
      "end init comp\n",
      "init comp\n",
      "degree done\n",
      "connected components done\n",
      "end init comp\n",
      "init comp\n",
      "degree done\n",
      "connected components done\n",
      "end init comp\n",
      "alpha:  500000.0\n",
      "init comp\n",
      "degree done\n",
      "connected components done\n",
      "end init comp\n",
      "init comp\n",
      "degree done\n",
      "connected components done\n",
      "end init comp\n",
      "init comp\n",
      "degree done\n",
      "connected components done\n",
      "end init comp\n",
      "init comp\n",
      "degree done\n",
      "connected components done\n",
      "end init comp\n",
      "init comp\n",
      "degree done\n",
      "connected components done\n",
      "end init comp\n",
      "init comp\n",
      "degree done\n",
      "connected components done\n",
      "end init comp\n",
      "init comp\n",
      "degree done\n",
      "connected components done\n",
      "end init comp\n",
      "init comp\n",
      "degree done\n",
      "connected components done\n",
      "end init comp\n",
      "init comp\n",
      "degree done\n",
      "connected components done\n",
      "end init comp\n",
      "init comp\n",
      "degree done\n",
      "connected components done\n",
      "end init comp\n",
      "alpha:  600000.0\n",
      "init comp\n",
      "degree done\n",
      "connected components done\n",
      "end init comp\n",
      "init comp\n",
      "degree done\n",
      "connected components done\n",
      "end init comp\n",
      "init comp\n",
      "degree done\n",
      "connected components done\n",
      "end init comp\n",
      "init comp\n",
      "degree done\n",
      "connected components done\n",
      "end init comp\n",
      "init comp\n",
      "degree done\n",
      "connected components done\n",
      "end init comp\n",
      "init comp\n",
      "degree done\n",
      "connected components done\n",
      "end init comp\n",
      "init comp\n",
      "degree done\n",
      "connected components done\n",
      "end init comp\n",
      "init comp\n",
      "degree done\n",
      "connected components done\n",
      "end init comp\n",
      "init comp\n",
      "degree done\n",
      "connected components done\n",
      "end init comp\n",
      "init comp\n",
      "degree done\n",
      "connected components done\n",
      "end init comp\n",
      "alpha:  700000.0\n",
      "init comp\n",
      "degree done\n",
      "connected components done\n",
      "end init comp\n",
      "init comp\n",
      "degree done\n",
      "connected components done\n",
      "end init comp\n",
      "init comp\n",
      "degree done\n",
      "connected components done\n",
      "end init comp\n",
      "init comp\n",
      "degree done\n",
      "connected components done\n",
      "end init comp\n",
      "init comp\n",
      "degree done\n",
      "connected components done\n",
      "end init comp\n",
      "init comp\n",
      "degree done\n",
      "connected components done\n",
      "end init comp\n",
      "init comp\n",
      "degree done\n",
      "connected components done\n",
      "end init comp\n",
      "init comp\n",
      "degree done\n",
      "connected components done\n",
      "end init comp\n",
      "init comp\n",
      "degree done\n",
      "connected components done\n",
      "end init comp\n",
      "init comp\n",
      "degree done\n",
      "connected components done\n",
      "end init comp\n",
      "alpha:  800000.0\n",
      "init comp\n",
      "degree done\n",
      "connected components done\n",
      "end init comp\n",
      "init comp\n",
      "degree done\n",
      "connected components done\n",
      "end init comp\n",
      "init comp\n",
      "degree done\n",
      "connected components done\n",
      "end init comp\n",
      "init comp\n",
      "degree done\n",
      "connected components done\n",
      "end init comp\n",
      "init comp\n",
      "degree done\n",
      "connected components done\n",
      "end init comp\n",
      "init comp\n",
      "degree done\n",
      "connected components done\n",
      "end init comp\n",
      "init comp\n",
      "degree done\n",
      "connected components done\n",
      "end init comp\n",
      "init comp\n",
      "degree done\n",
      "connected components done\n",
      "end init comp\n",
      "init comp\n",
      "degree done\n",
      "connected components done\n",
      "end init comp\n",
      "init comp\n",
      "degree done\n",
      "connected components done\n",
      "end init comp\n",
      "alpha:  900000.0\n",
      "init comp\n",
      "degree done\n",
      "connected components done\n",
      "end init comp\n",
      "init comp\n",
      "degree done\n",
      "connected components done\n",
      "end init comp\n",
      "init comp\n",
      "degree done\n",
      "connected components done\n",
      "end init comp\n",
      "init comp\n",
      "degree done\n",
      "connected components done\n",
      "end init comp\n",
      "init comp\n",
      "degree done\n",
      "connected components done\n",
      "end init comp\n",
      "init comp\n",
      "degree done\n",
      "connected components done\n",
      "end init comp\n",
      "init comp\n",
      "degree done\n",
      "connected components done\n",
      "end init comp\n"
     ]
    }
   ],
   "source": [
    "if __name__ == '__main__':\n",
    "### run for a fixed network and fixed alpha\n",
    "##########################################\n",
    "\n",
    "    np.random.seed(0)\n",
    "\n",
    "    T = 10\n",
    "    epsilon = 0.001\n",
    "    alphavals = np.arange(1e5,1e6,1e5)\n",
    "    num_times = 10\n",
    "\n",
    "    n = len(G)\n",
    "    p = 0.3\n",
    "    \n",
    "    raw_data = []\n",
    "    exp_inf_list = []\n",
    "    exp_inf_std = []\n",
    "    n_vacc_size = []\n",
    "    xlist_alpha = {}\n",
    "    ts = {}\n",
    "    for alpha in alphavals:\n",
    "        zs = []\n",
    "        vacc_size = []\n",
    "        xlist = []\n",
    "        ts[alpha] = []\n",
    "        \n",
    "        print(\"alpha: \", alpha)\n",
    "\n",
    "        for i in range(num_times):\n",
    "            x = {}\n",
    "            Cvacc = {}\n",
    "            Cinf = {};\n",
    "            \n",
    "            for u in G.nodes():\n",
    "                x[u] = np.random.randint(0, 2)\n",
    "                Cinf[u] = 1; \n",
    "                Cvacc[u] = Cinf[u]*float(alpha)*hh_size[u]/(n*hh_income[u])\n",
    "                \n",
    "            x, nviol, t = best_response_v2(G, Cvacc, Cinf, x, T, p, epsilon)\n",
    "\n",
    "            if(nviol == 0):\n",
    "                \n",
    "                ts[alpha].append(t)\n",
    "                \n",
    "                z = exp_infsize(G, x, p)\n",
    "                zs.append(z)\n",
    "                \n",
    "                vaccinated = len([i for i in x if x[i] == 1])\n",
    "                vacc_size.append(vaccinated)\n",
    "                xlist.append(x)\n",
    "\n",
    "        n_vacc_size.append(vacc_size)\n",
    "        xlist_alpha[alpha] = xlist\n",
    "        \n",
    "        zs = np.array(zs)\n",
    "        exp_inf_list.append(zs.mean())\n",
    "        exp_inf_std.append(zs.std())\n",
    "    \n",
    "    n_vacc_size = np.array(n_vacc_size)\n"
   ]
  },
  {
   "cell_type": "code",
   "execution_count": 28,
   "metadata": {},
   "outputs": [],
   "source": [
    "def vaccinated_boxplot(attribute_name):\n",
    "    attribute = nx.get_node_attributes(G, attribute_name)\n",
    "    data = []\n",
    "    for alpha in alphavals:\n",
    "        vaccinated = set()\n",
    "        for x in xlist_alpha[alpha]:\n",
    "            for k in x:\n",
    "                if x[k] == 1:\n",
    "                    vaccinated.add(k)\n",
    "        l = [attribute[i] for i in vaccinated]\n",
    "    \n",
    "        data.append(l)\n",
    "        \n",
    "    data.append(list(attribute.values()))\n",
    "    labels = list(alphavals)\n",
    "    labels.append('whole')\n",
    "    box = plt.boxplot(data, labels=labels)\n",
    "    plt.xlabel('alpha')\n",
    "    plt.ylabel(attribute_name)\n",
    "    plt.savefig('vaccinated nodes-'+attribute_name)\n",
    "    plt.show()"
   ]
  },
  {
   "cell_type": "code",
   "execution_count": 29,
   "metadata": {},
   "outputs": [
    {
     "data": {
      "image/png": "[encoded data removed]",
      "text/plain": [
       "<Figure size 432x288 with 1 Axes>"
      ]
     },
     "metadata": {
      "needs_background": "light"
     },
     "output_type": "display_data"
    },
    {
     "data": {
      "image/png": "[encoded data removed]",
      "text/plain": [
       "<Figure size 432x288 with 1 Axes>"
      ]
     },
     "metadata": {
      "needs_background": "light"
     },
     "output_type": "display_data"
    },
    {
     "data": {
      "image/png": "[encoded data removed]",
      "text/plain": [
       "<Figure size 432x288 with 1 Axes>"
      ]
     },
     "metadata": {
      "needs_background": "light"
     },
     "output_type": "display_data"
    },
    {
     "data": {
      "image/png": "[encoded data removed]",
      "text/plain": [
       "<Figure size 432x288 with 1 Axes>"
      ]
     },
     "metadata": {
      "needs_background": "light"
     },
     "output_type": "display_data"
    }
   ],
   "source": [
    "plt.figsize()\n",
    "vaccinated_boxplot('hh_size')\n",
    "vaccinated_boxplot('workers_in_family')\n",
    "vaccinated_boxplot('age')\n",
    "vaccinated_boxplot('hh_income')"
   ]
  },
  {
   "cell_type": "code",
   "execution_count": null,
   "metadata": {
    "tags": [
     "outputPrepend"
    ]
   },
   "outputs": [],
   "source": [
    "print(exp_inf_list)\n",
    "print(exp_inf_std)"
   ]
  },
  {
   "cell_type": "code",
   "execution_count": null,
   "metadata": {
    "tags": [
     "outputPrepend"
    ]
   },
   "outputs": [],
   "source": [
    "z4 = exp_inf_list\n",
    "z4std = exp_inf_std"
   ]
  },
  {
   "cell_type": "code",
   "execution_count": null,
   "metadata": {},
   "outputs": [],
   "source": [
    "print(n_vacc_size)"
   ]
  },
  {
   "cell_type": "code",
   "execution_count": null,
   "metadata": {},
   "outputs": [],
   "source": [
    "n_num_vacc_list = np.array(n_vacc_size)\n",
    "vacc_mean = n_num_vacc_list.mean(axis = 1)\n",
    "vacc_std = n_num_vacc_list.std(axis = 1)\n",
    "\n",
    "print(list(vacc_mean))\n",
    "print(list(vacc_std))"
   ]
  },
  {
   "cell_type": "code",
   "execution_count": null,
   "metadata": {},
   "outputs": [],
   "source": [
    "k = np.array(vacc_mean).astype(int)\n",
    "zs, topk_list =  get_topk_exp_infsize(G, k, p) ## sorted by alpha\n",
    "jaccard_mean, jaccard_std = plot_jaccard(alphavals, xlist_alpha, topk_list)"
   ]
  },
  {
   "cell_type": "code",
   "execution_count": null,
   "metadata": {},
   "outputs": [],
   "source": [
    "legend = ['Best-response NE', 'Topk Nodes']\n",
    "plt.plot(alphavals, z4, 'o-')\n",
    "plt.plot(alphavals, zs, 'o-')\n",
    "plt.xlabel(r'$\\alpha$')\n",
    "plt.ylabel('E[#inf]')\n",
    "plt.legend(legend)\n",
    "plt.savefig('2_3_p4.pdf')"
   ]
  },
  {
   "cell_type": "code",
   "execution_count": null,
   "metadata": {},
   "outputs": [],
   "source": [
    "z = [z4]\n",
    "zstd = [z4std]\n",
    "legend = ['p = ' + str('%0.2f'%i) for i in [0.4]]\n",
    "for y, ystd in zip(z,zstd):\n",
    "    plt.errorbar(alphavals, y, ystd, fmt = 'o-')\n",
    "plt.xlabel(r'$\\alpha$')\n",
    "plt.ylabel('E[#inf]')\n",
    "plt.legend(legend)\n",
    "plt.show()"
   ]
  },
  {
   "cell_type": "code",
   "execution_count": null,
   "metadata": {},
   "outputs": [],
   "source": [
    "z = [z4]\n",
    "zstd = [z4std]\n",
    "legend = ['p = ' + str('%0.2f'%i) for i in [0.4]]\n",
    "plt.errorbar(alphavals, vacc_mean, vacc_std, fmt='o-')\n",
    "plt.xlabel(r'$\\alpha$')\n",
    "plt.ylabel('#vacc')\n",
    "plt.legend(legend)\n",
    "plt.show()"
   ]
  },
  {
   "cell_type": "code",
   "execution_count": null,
   "metadata": {},
   "outputs": [],
   "source": [
    "max([G.degree(v) for v in G.nodes()])"
   ]
  },
  {
   "cell_type": "code",
   "execution_count": null,
   "metadata": {},
   "outputs": [],
   "source": [
    "compare_degree(G, 'whole graph')\n",
    "compare_cc(G, 'whole graph')"
   ]
  },
  {
   "cell_type": "code",
   "execution_count": null,
   "metadata": {},
   "outputs": [],
   "source": [
    "for alpha in alphavals:\n",
    "    v = set(get_provax(xlist_alpha[alpha][0]))\n",
    "    s = G.subgraph(v)\n",
    "\n",
    "    compare_degree(s, 'vaccinated nodes alpha: ' + str(alpha))\n",
    "    compare_cc(s, 'vaccinated nodes alpha: ' + str(alpha))"
   ]
  },
  {
   "cell_type": "code",
   "execution_count": 36,
   "metadata": {},
   "outputs": [
    {
     "ename": "TypeError",
     "evalue": "unsupported operand type(s) for +: 'dict_values' and 'dict_values'",
     "output_type": "error",
     "traceback": [
      "\u001b[0;31m---------------------------------------------------------------------------\u001b[0m",
      "\u001b[0;31mTypeError\u001b[0m                                 Traceback (most recent call last)",
      "\u001b[0;32m<ipython-input-36-b2718c94e22d>\u001b[0m in \u001b[0;36m<module>\u001b[0;34m\u001b[0m\n\u001b[1;32m      1\u001b[0m \u001b[0;32mfor\u001b[0m \u001b[0malpha\u001b[0m \u001b[0;32min\u001b[0m \u001b[0malphavals\u001b[0m\u001b[0;34m:\u001b[0m\u001b[0;34m\u001b[0m\u001b[0;34m\u001b[0m\u001b[0m\n\u001b[0;32m----> 2\u001b[0;31m     \u001b[0mdmean\u001b[0m \u001b[0;34m=\u001b[0m  \u001b[0mnp\u001b[0m\u001b[0;34m.\u001b[0m\u001b[0marray\u001b[0m\u001b[0;34m(\u001b[0m\u001b[0;34m[\u001b[0m\u001b[0mdic\u001b[0m\u001b[0;34m.\u001b[0m\u001b[0mvalues\u001b[0m\u001b[0;34m(\u001b[0m\u001b[0;34m)\u001b[0m \u001b[0;32mfor\u001b[0m \u001b[0mdic\u001b[0m \u001b[0;32min\u001b[0m \u001b[0mxlist_alpha\u001b[0m\u001b[0;34m[\u001b[0m\u001b[0malpha\u001b[0m\u001b[0;34m]\u001b[0m \u001b[0;34m]\u001b[0m \u001b[0;34m)\u001b[0m\u001b[0;34m.\u001b[0m\u001b[0mmean\u001b[0m\u001b[0;34m(\u001b[0m\u001b[0;34m)\u001b[0m\u001b[0;34m\u001b[0m\u001b[0;34m\u001b[0m\u001b[0m\n\u001b[0m\u001b[1;32m      3\u001b[0m     \u001b[0mdstd\u001b[0m \u001b[0;34m=\u001b[0m \u001b[0mnp\u001b[0m\u001b[0;34m.\u001b[0m\u001b[0marray\u001b[0m\u001b[0;34m(\u001b[0m\u001b[0;34m[\u001b[0m\u001b[0mdic\u001b[0m\u001b[0;34m.\u001b[0m\u001b[0mvalues\u001b[0m\u001b[0;34m(\u001b[0m\u001b[0;34m)\u001b[0m \u001b[0;32mfor\u001b[0m \u001b[0mdic\u001b[0m \u001b[0;32min\u001b[0m \u001b[0mxlist_alpha\u001b[0m\u001b[0;34m[\u001b[0m\u001b[0malpha\u001b[0m\u001b[0;34m]\u001b[0m \u001b[0;34m]\u001b[0m \u001b[0;34m)\u001b[0m\u001b[0;34m.\u001b[0m\u001b[0mstd\u001b[0m\u001b[0;34m(\u001b[0m\u001b[0;34m)\u001b[0m\u001b[0;34m\u001b[0m\u001b[0;34m\u001b[0m\u001b[0m\n\u001b[1;32m      4\u001b[0m \u001b[0;34m\u001b[0m\u001b[0m\n\u001b[1;32m      5\u001b[0m \u001b[0mplt\u001b[0m\u001b[0;34m.\u001b[0m\u001b[0merrorbar\u001b[0m\u001b[0;34m(\u001b[0m\u001b[0malphavals\u001b[0m\u001b[0;34m,\u001b[0m\u001b[0mdmean\u001b[0m\u001b[0;34m,\u001b[0m\u001b[0mdtsd\u001b[0m\u001b[0;34m)\u001b[0m\u001b[0;34m\u001b[0m\u001b[0;34m\u001b[0m\u001b[0m\n",
      "\u001b[0;32m/apps/software/standard/compiler/gcc/9.2.0/jupyter_conda/2019.10-py3.7/lib/python3.7/site-packages/numpy/core/_methods.py\u001b[0m in \u001b[0;36m_mean\u001b[0;34m(a, axis, dtype, out, keepdims)\u001b[0m\n\u001b[1;32m    149\u001b[0m             \u001b[0mis_float16_result\u001b[0m \u001b[0;34m=\u001b[0m \u001b[0;32mTrue\u001b[0m\u001b[0;34m\u001b[0m\u001b[0;34m\u001b[0m\u001b[0m\n\u001b[1;32m    150\u001b[0m \u001b[0;34m\u001b[0m\u001b[0m\n\u001b[0;32m--> 151\u001b[0;31m     \u001b[0mret\u001b[0m \u001b[0;34m=\u001b[0m \u001b[0mumr_sum\u001b[0m\u001b[0;34m(\u001b[0m\u001b[0marr\u001b[0m\u001b[0;34m,\u001b[0m \u001b[0maxis\u001b[0m\u001b[0;34m,\u001b[0m \u001b[0mdtype\u001b[0m\u001b[0;34m,\u001b[0m \u001b[0mout\u001b[0m\u001b[0;34m,\u001b[0m \u001b[0mkeepdims\u001b[0m\u001b[0;34m)\u001b[0m\u001b[0;34m\u001b[0m\u001b[0;34m\u001b[0m\u001b[0m\n\u001b[0m\u001b[1;32m    152\u001b[0m     \u001b[0;32mif\u001b[0m \u001b[0misinstance\u001b[0m\u001b[0;34m(\u001b[0m\u001b[0mret\u001b[0m\u001b[0;34m,\u001b[0m \u001b[0mmu\u001b[0m\u001b[0;34m.\u001b[0m\u001b[0mndarray\u001b[0m\u001b[0;34m)\u001b[0m\u001b[0;34m:\u001b[0m\u001b[0;34m\u001b[0m\u001b[0;34m\u001b[0m\u001b[0m\n\u001b[1;32m    153\u001b[0m         ret = um.true_divide(\n",
      "\u001b[0;31mTypeError\u001b[0m: unsupported operand type(s) for +: 'dict_values' and 'dict_values'"
     ]
    }
   ],
   "source": [
    "for alpha in alphavals:\n",
    "    dmean =  np.array([dic.values() for dic in xlist_alpha[alpha] ] ).mean()\n",
    "    dstd = np.array([dic.values() for dic in xlist_alpha[alpha] ] ).std()\n",
    "\n",
    "plt.errorbar(alphavals, dmean, dstd)"
   ]
  },
  {
   "cell_type": "code",
   "execution_count": null,
   "metadata": {},
   "outputs": [],
   "source": []
  },
  {
   "cell_type": "code",
   "execution_count": null,
   "metadata": {},
   "outputs": [],
   "source": []
  }
 ],
 "metadata": {
  "kernelspec": {
   "display_name": "Python 3",
   "language": "python",
   "name": "python3"
  },
  "language_info": {
   "codemirror_mode": {
    "name": "ipython",
    "version": 3
   },
   "file_extension": ".py",
   "mimetype": "text/x-python",
   "name": "python",
   "nbconvert_exporter": "python",
   "pygments_lexer": "ipython3",
   "version": "3.7.4"
  }
 },
 "nbformat": 4,
 "nbformat_minor": 4
}
