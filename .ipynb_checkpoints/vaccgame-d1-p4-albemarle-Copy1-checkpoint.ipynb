{
 "cells": [
  {
   "cell_type": "code",
   "execution_count": 60,
   "metadata": {},
   "outputs": [],
   "source": [
    "import numpy as np\n",
    "import networkx as nx\n",
    "import EoN\n",
    "import matplotlib.pyplot as plt\n",
    "import csv, random, pdb, sys\n",
    "from IPython.core.debugger import set_trace\n",
    "import copy"
   ]
  },
  {
   "cell_type": "code",
   "execution_count": 61,
   "metadata": {},
   "outputs": [],
   "source": [
    "# !git log"
   ]
  },
  {
   "cell_type": "code",
   "execution_count": 62,
   "metadata": {},
   "outputs": [
    {
     "name": "stdout",
     "output_type": "stream",
     "text": [
      "PYTHONPATH: None\n",
      "PATH: /apps/software/standard/compiler/gcc/9.2.0/jupyter_conda/2019.10-py3.7:/apps/software/standard/compiler/gcc/9.2.0/jupyter_conda/2019.10-py3.7/sbin:/apps/software/standard/compiler/gcc/9.2.0/jupyter_conda/2019.10-py3.7/bin:/apps/software/standard/compiler/gcc/9.2.0/nodejs/12.14.1/bin:/apps/software/standard/core/gcc/9.2.0/bin:/usr/lib64/qt-3.3/bin:/opt/mam/9.1.2/bin:/usr/local/bin:/bin:/usr/bin:/usr/local/sbin:/usr/sbin:/opt/ibutils/bin:/opt/slurm/current/bin:/opt/singularity/current/bin:/opt/rci/bin:/share/rci_apps/common/bin:/share/resources/HPCtools:/opt/mam/current/bin\n"
     ]
    }
   ],
   "source": [
    "import os\n",
    "print(\"PYTHONPATH:\", os.environ.get('PYTHONPATH'))\n",
    "print(\"PATH:\", os.environ.get('PATH'))"
   ]
  },
  {
   "cell_type": "code",
   "execution_count": 63,
   "metadata": {},
   "outputs": [],
   "source": [
    "\n",
    "'''\n",
    "Cvacc[i] = cost of vaccination for node i\n",
    "Cinf[i]: cost of infection for node i\n",
    "x[i]: current strategy of node i\n",
    "    x[i] = 1 ==> i is vaccinated\n",
    "S(x): set of vaccinated nodes\n",
    "comp(x): components formed by residual nodes\n",
    "cost[i]: cost of node i\n",
    "\n",
    "#Evaluating reduction in cost for node i\n",
    "#return old cost - new cost\n",
    "def reduction_in_cost(x, comp, cost, Cvacc, Cinf, i)\n",
    "    if x[i] == 0, then return  cost[i] - Cvacc[i]\n",
    "    if x[i] == 1\n",
    "        A = {comp(j, x): j is a nbr of i }\n",
    "        N = \\sum_{X in A} |X|\n",
    "        return  Cvacc[i] - N^2 Cinf[i]/n\n",
    "\n",
    "#best response\n",
    "def best_respose(Cvacc, Cinf)\n",
    "    xinit: random strategy\n",
    "    initialize comp, cost\n",
    "    for t = 1.. T:\n",
    "        for i in V:\n",
    "            if reduction_in_cost(x, i) > 0:\n",
    "                flip x[i]\n",
    "                update comp\n",
    "\n",
    "#possible efficiencies\n",
    "    #uniform Cvacc, Cinf setting\n",
    "        if there is a large comp X: check benefit of vaccination\n",
    "        if all comp are small: check benefit of not vaccinating\n",
    "'''\n",
    "\n",
    "\n",
    "#each line: id1, id2\n",
    "def read_graph(fname):\n",
    "    G = nx.Graph()\n",
    "    fp_reader = csv.reader(open(fname), delimiter = ' ')\n",
    "    headers = next(fp_reader) \n",
    "    count = 0\n",
    "    for line in fp_reader:\n",
    "        if line[1] != line[2]: \n",
    "            G.add_edge(line[1], line[2])\n",
    "        count += 1\n",
    "    return G\n",
    "\n",
    "#create components\n",
    "#x: strategy vector where x[i] = 1 means i is vaccinated\n",
    "def init_comp(G, x):\n",
    "\n",
    "    # comp_id: {node u: component_id i}; mapping of each node to it's current component id\n",
    "    # comp_len: {component_id i: length(int)}; mapping of component id to its length\n",
    "    # comp_d: {component_id i: list of node in ith component}\n",
    "    # max_comp_id: integer; each time we create a new component id so it will be helpful.\n",
    "    comp_id = {}; comp_len = {}; comp_d = {}; max_comp_id = 0\n",
    "    \n",
    "    H = nx.Graph()\n",
    "    for u in G.nodes(): \n",
    "        H.add_node(u)\n",
    "    for e in G.edges():\n",
    "        u = e[0]; v = e[1]\n",
    "        if x[u] == 0 and x[v] == 0: #both nodes unvacccinated\n",
    "            H.add_edge(u, v)\n",
    "    comp = nx.connected_components(H)\n",
    "    \n",
    "    for c in list(comp):\n",
    "        max_comp_id += 1\n",
    "        for u in c: \n",
    "            comp_id[u] = max_comp_id\n",
    "        comp_len[max_comp_id] = len(list(c))\n",
    "        comp_d[max_comp_id] = list(c)\n",
    "\n",
    "    return H, comp_d, comp_id, comp_len, max_comp_id\n",
    "\n",
    "def comp_cost(G, x, Cvacc, Cinf, p):\n",
    "    cost = {}\n",
    "    #calculate #unvacc nbrs for each node\n",
    "    H = nx.Graph()\n",
    "    for e in G.edges():\n",
    "        H.add_edge(e[0], e[1])\n",
    "    for i in x:\n",
    "        if x[i] == 1: \n",
    "            cost[i] = Cvacc[i]\n",
    "        else: \n",
    "            cost[i] = (1 + p*(H.degree(i)))/(len(x)+0.0)\n",
    "    return cost\n",
    "\n",
    "\n",
    "#return reduction in cost if node u flips its strategy\n",
    "def reduction_in_cost(G, x, p, cost, Cvacc, Cinf, u):\n",
    "    if x[u] == 0: \n",
    "        return  cost[u] - Cvacc[u]\n",
    "    if x[u] == 1:\n",
    "        num_unvacc_nbrs = 0\n",
    "        for v in G.neighbors(u): \n",
    "            if x[v] == 0: num_unvacc_nbrs += 1\n",
    "        return cost[u] - (1 + p*num_unvacc_nbrs)/(len(x)+0.0)\n",
    "\n",
    "\n",
    "def check_NE(G, x, p, cost, Cvacc, Cinf):\n",
    "    num_violated = 0\n",
    "    for u in G.nodes():\n",
    "        if reduction_in_cost(G, x, p, cost, Cvacc, Cinf, u) > 0: num_violated += 1\n",
    "    return num_violated\n",
    "            \n",
    "#flip strategy of node u\n",
    "def update_strategy(G, x, p, cost, Cvacc, Cinf, u):\n",
    "\n",
    "    if x[u] == 0:\n",
    "        x[u] = 1\n",
    "        cost[u] = Cvacc[u]\n",
    "        return x, cost\n",
    "\n",
    "    else: #x[u] = 1\n",
    "        x[u] = 0\n",
    "        num_unvacc_nbrs = 0\n",
    "        for v in G.neighbors(u): \n",
    "            if x[v] == 0: num_unvacc_nbrs += 1\n",
    "        cost[u] = (1 + p*num_unvacc_nbrs)/(len(x)+0.0)\n",
    "        \n",
    "        return x, cost\n",
    "        \n",
    "def print_analysis(comp_id, comp_len): \n",
    "    component_ids = np.unique(list(comp_id.values()))  \n",
    "    component_lengths = [comp_len[i] for i in component_ids] \n",
    "    avg_comp_size = round(np.mean(component_lengths),2)\n",
    "    max_comp_size = np.max(component_lengths)\n",
    "    #print(\"Average component size: \", avg_comp_size)\n",
    "    #print(\"Max component size: \", max_comp_size) \n",
    "    return avg_comp_size, max_comp_size  \n",
    "\n",
    "#start at strategy x and run for T steps\n",
    "def best_response(G, Cvacc, Cinf, x, T, p, epsilon=0.05):\n",
    "#     if len(x) == 0:\n",
    "#         for u in G.nodes(): x[u] = np.random.randint(0, 2)\n",
    "    \n",
    "    #H, comp_d, comp_id, comp_len, comp_max_id = init_comp(G, x)\n",
    "    #print('x', x)\n",
    "    cost = comp_cost(G, x, Cvacc, Cinf, p)\n",
    "    V = G.nodes(); itrn = 0\n",
    "    for t in range(T):\n",
    "        #u = random.choice(list(V)); \n",
    "        num_updated = 0\n",
    "        for u in G.nodes():\n",
    "#             itrn += 1\n",
    "#             if (itrn % 10 == 0): print(itrn)\n",
    "            if reduction_in_cost(G, x, p, cost, Cvacc, Cinf, u) > 0:\n",
    "                x, cost = update_strategy(G, x, p, cost, Cvacc, Cinf, u)\n",
    "                num_updated += 1\n",
    "\n",
    "        if num_updated == 0: return x, check_NE(G, x, p, cost, Cvacc, Cinf)\n",
    "    \n",
    "    return x, check_NE(G, x, p, cost, Cvacc, Cinf)\n",
    "\n",
    "\n",
    "def save_file(filename, data):\n",
    "    with open(filename, 'w') as f:\n",
    "        for row in data:\n",
    "            for item in row:\n",
    "                f.write(\"%s\\t\" % item)\n",
    "            f.write(\"\\n\")\n",
    "\n",
    "\n",
    "def save_degree_hist(comp_id, comp_len, comp_d, G, alpha):     \n",
    "    component_ids = np.unique(list(comp_id.values()))  \n",
    "    component_lengths = [comp_len[i] for i in component_ids] \n",
    "    index_max = np.argmax(component_lengths)\n",
    "    max_comp = component_ids[index_max]\n",
    "    max_comp_nodes = comp_d[max_comp]\n",
    "    max_nodes_degrees = [G.degree(node) for node in max_comp_nodes]\n",
    "    plt.hist(max_nodes_degrees, density=False, bins=20)  # `density=False` would make counts\n",
    "    plt.ylabel('Num of nodes')\n",
    "    plt.xlabel('Degree');\n",
    "    plt.title(\"Histogram of degrees for Max Component Nodes; alpha: \" + str(alpha) + \"; len: \" + str(len(max_comp_nodes)))\n",
    "    plt.savefig(\"../out/fig/max_comp_nodes_alpha_\" + str(alpha) + \".png\")\n",
    "    plt.show()\n",
    "\n",
    "def save_graph_data(comp_id, comp_len, comp_d, G):     \n",
    "    graph_data = {}\n",
    "    graph_data['comp_id'] = comp_id\n",
    "    graph_data['comp_len'] = comp_len\n",
    "    graph_data['comp_d'] = comp_d\n",
    "    graph_data['nodes'] = list(G.nodes())\n",
    "    graph_data['edges'] = list(G.edges())\n",
    "    graph_data['degree'] = dict(G.degree)\n",
    "    return graph_data\n",
    "\n",
    "\n",
    "\n",
    "def remove_topk_nodes(G, k):\n",
    "    degree_tup = list(dict(G.degree).items())\n",
    "    degree_tup = sorted(degree_tup, key=lambda x: -1*x[1])\n",
    "    top_k_nodes = [x for x,d in degree_tup[:k]]\n",
    "    G_res = copy.deepcopy(G)\n",
    "    for node in top_k_nodes:\n",
    "        G_res.remove_node(node)\n",
    "    \n",
    "    return G_res\n",
    "\n",
    "def exp_infsize(G, x, p):\n",
    "    num_itrn = 100\n",
    "    z = 0\n",
    "    for i in range(num_itrn):\n",
    "        H = nx.Graph()\n",
    "        for u in G.nodes(): \n",
    "            if x[u] == 0: H.add_node(u)\n",
    "        for e in G.edges():\n",
    "            if x[e[0]] == 0 and x[e[1]] == 0 and random.random() <= p:\n",
    "                H.add_edge(e[0], e[1])\n",
    "        comp = nx.connected_components(H)\n",
    "        z1 = 0\n",
    "        for c in list(comp):\n",
    "            a = len(list(c))\n",
    "            z1 += a*a\n",
    "        z += z1/(len(x)+0.0)\n",
    "        \n",
    "    return z/(num_itrn*len(x)+0.0)\n",
    "\n",
    "\n",
    "\n",
    "def get_topk_nodes(G, k):\n",
    "    degree_tup = list(dict(G.degree).items())\n",
    "    degree_tup = sorted(degree_tup, key=lambda x: -1*x[1])\n",
    "    top_k_nodes = [x for x,d in degree_tup[:k]]\n",
    "    return top_k_nodes"
   ]
  },
  {
   "cell_type": "code",
   "execution_count": 64,
   "metadata": {},
   "outputs": [],
   "source": [
    "G = read_graph('household_undirected_albe_1.90.txt')"
   ]
  },
  {
   "cell_type": "code",
   "execution_count": 11,
   "metadata": {},
   "outputs": [
    {
     "name": "stdout",
     "output_type": "stream",
     "text": [
      "Defaulting to user installation because normal site-packages is not writeable\n",
      "Collecting python-louvain\n",
      "  Downloading python-louvain-0.15.tar.gz (204 kB)\n",
      "\u001b[K     |████████████████████████████████| 204 kB 22.7 MB/s eta 0:00:01\n",
      "\u001b[?25hRequirement already satisfied: networkx in /sfs/applications/202012/software/standard/compiler/gcc/9.2.0/jupyter_conda/2019.10-py3.7/lib/python3.7/site-packages (from python-louvain) (2.4)\n",
      "Requirement already satisfied: numpy in /sfs/applications/202012/software/standard/compiler/gcc/9.2.0/jupyter_conda/2019.10-py3.7/lib/python3.7/site-packages (from python-louvain) (1.18.1)\n",
      "Requirement already satisfied: decorator>=4.3.0 in /sfs/applications/202012/software/standard/compiler/gcc/9.2.0/jupyter_conda/2019.10-py3.7/lib/python3.7/site-packages (from networkx->python-louvain) (4.4.2)\n",
      "Building wheels for collected packages: python-louvain\n",
      "  Building wheel for python-louvain (setup.py) ... \u001b[?25ldone\n",
      "\u001b[?25h  Created wheel for python-louvain: filename=python_louvain-0.15-py3-none-any.whl size=9400 sha256=b7fab89895c46f695398d28899ba2e3974e08bac32d46396d20fa0f5777964a2\n",
      "  Stored in directory: /sfs/qumulo/qhome/ah3wj/.cache/pip/wheels/c7/4c/ef/427db8777620f7fa12a6404f1527a39536a812f46a4d1044d3\n",
      "Successfully built python-louvain\n",
      "Installing collected packages: python-louvain\n",
      "Successfully installed python-louvain-0.15\n"
     ]
    }
   ],
   "source": [
    "!pip install python-louvain\n",
    "from community import community_louvain"
   ]
  },
  {
   "cell_type": "code",
   "execution_count": null,
   "metadata": {},
   "outputs": [],
   "source": [
    "communities =community_louvain.best_partition(G)"
   ]
  },
  {
   "cell_type": "code",
   "execution_count": 66,
   "metadata": {},
   "outputs": [
    {
     "name": "stdout",
     "output_type": "stream",
     "text": [
      "17920\n",
      "40\n"
     ]
    }
   ],
   "source": [
    "# print(communities)\n",
    "\n",
    "comm_list = {}\n",
    "comm_id = set(communities.values())\n",
    "num_comm = len(comm_id)\n",
    "\n",
    "for i in G.nodes:\n",
    "    if communities[i] not in comm_list:\n",
    "        comm_list[communities[i]] = []\n",
    "    comm_list[communities[i]].append(i)\n",
    "\n",
    "largest_id = -1\n",
    "largest = -1\n",
    "for i in comm_id:\n",
    "    if(len(comm_list[i]) > largest):\n",
    "        largest = len(comm_list[i])\n",
    "        largest_id = i\n",
    "\n",
    "print(largest)\n",
    "print(largest_id)\n",
    "\n",
    "# print(comm_list[largest_id])"
   ]
  },
  {
   "cell_type": "code",
   "execution_count": 67,
   "metadata": {},
   "outputs": [
    {
     "data": {
      "text/plain": [
       "2560"
      ]
     },
     "execution_count": 67,
     "metadata": {},
     "output_type": "execute_result"
    }
   ],
   "source": [
    "# G_whole = G\n",
    "\n",
    "G = G_whole.subgraph(comm_list[0])\n",
    "\n",
    "len(G)"
   ]
  },
  {
   "cell_type": "code",
   "execution_count": 69,
   "metadata": {},
   "outputs": [],
   "source": [
    "if __name__ == '__main__':\n",
    "### run for a fixed network and fixed alpha\n",
    "##########################################\n",
    "    \n",
    "    T = 10\n",
    "    epsilon = 0.001\n",
    "    alphavals = np.arange(0,50,1)\n",
    "    #alphavals = sys.argv[1]\n",
    "\n",
    "    num_times = 10\n",
    "\n",
    "\n",
    "\n",
    "    avg_file_name = './vacc_albemarle_household_1_7_dec7_avg.txt'\n",
    "    raw_file_name = './vacc_albemarle_household_1_7_dec7_raw.txt' \n",
    "    \n",
    "    raw_data = []\n",
    "    np.random.seed(0)\n",
    "\n",
    "    #### read from a fixed graph\n",
    "    n = len(G)\n",
    "    p = 0.4;\n",
    "\n",
    "    exp_inf_list = []\n",
    "    exp_inf_std = []\n",
    "\n",
    "    n_vacc_size = []\n",
    "\n",
    "    xlist_alpha = {}\n",
    "\n",
    "    for alpha in alphavals:\n",
    "        zs = []\n",
    "        vacc_size = []\n",
    "        \n",
    "        xlist = []\n",
    "        for i in range(num_times):\n",
    "            x = {}; Cvacc = {}; Cinf = {};\n",
    "            for u in G.nodes():\n",
    "                x[u] = np.random.randint(0, 2)\n",
    "                Cinf[u] = 1; \n",
    "                Cvacc[u] = Cinf[u]*float(alpha)/n\n",
    "                \n",
    "            x, nviol = best_response(G, Cvacc, Cinf, x, T, p, epsilon)\n",
    "\n",
    "            if(nviol == 0):\n",
    "                z = exp_infsize(G, x, p)\n",
    "                zs.append(z)\n",
    "\n",
    "                vaccinated = len([i for i in x if x[i] == 1])\n",
    "                vacc_size.append(vaccinated)\n",
    "\n",
    "                xlist.append(x)\n",
    "\n",
    "        n_vacc_size.append(vacc_size)\n",
    "        xlist_alpha[alpha] = xlist\n",
    "        \n",
    "        zs = np.array(zs)\n",
    "        exp_inf_list.append(zs.mean())\n",
    "        exp_inf_std.append(zs.std())\n",
    "    \n",
    "    n_vacc_size = np.array(n_vacc_size)\n"
   ]
  },
  {
   "cell_type": "code",
   "execution_count": null,
   "metadata": {
    "tags": [
     "outputPrepend"
    ]
   },
   "outputs": [],
   "source": [
    "print(exp_inf_list)\n",
    "print(exp_inf_std)"
   ]
  },
  {
   "cell_type": "code",
   "execution_count": 31,
   "metadata": {
    "tags": [
     "outputPrepend"
    ]
   },
   "outputs": [],
   "source": [
    "z4 = [0.0, 0.0, 0.0005784616088867188, 0.01190993408203125, 0.16533237243652343, 0.2660107171630859, 0.3848880407714843, 0.43096816406250016, 0.4996900735473632, 0.5330053143310547, 0.5718024124145508, 0.5896658911132813, 0.6071394082641601, 0.6143195388793946, 0.6278425799560547, 0.635782389526367, 0.6432623040771484, 0.6468523236083985, 0.6500829528808594, 0.6526040802001952, 0.6553248190307617, 0.6549597106933593, 0.6560782608032226, 0.657139962158203, 0.6571444342041015, 0.6578548443603517, 0.658201358947754, 0.6580138394165037, 0.6582146801757812, 0.6588530627441407, 0.6571566299438476, 0.6583068582153321, 0.6591903707885742, 0.6580866613769529, 0.6578479876708984, 0.6586743002319336, 0.6581942581176758, 0.6586199319458008, 0.658808388671875, 0.6581442828369141, 0.6577989797973632, 0.6589557739257812, 0.6580246789550783, 0.6587674719238282, 0.6584226330566407, 0.6586158108520508, 0.6576157067871092, 0.6588161410522462, 0.6581449728393556, 0.6586105999755859]\n",
    "z4std = [0.0, 0.0, 2.0890481363546772e-05, 0.002358219898289972, 0.012424132173775046, 0.00973327238294167, 0.003770574756821372, 0.005917409771032719, 0.006150618623813119, 0.0046479374925822515, 0.003175003082332886, 0.002558969451245317, 0.003911688077931171, 0.0017668298085537298, 0.003497219986284735, 0.002684039089010309, 0.002514606805331162, 0.0020293079178169736, 0.0015067606997257444, 0.0019127407859208558, 0.0012429116152476, 0.0008448815862309605, 0.0010662763099875067, 0.0011014326975397747, 0.0022402922104102154, 0.0014369622606484654, 0.0012116186741882246, 0.0014169030336175167, 0.0010072298706025938, 0.001502646560887231, 0.0013505261923381275, 0.0013159904013372503, 0.0015964873956893803, 0.0013290858427226636, 0.0015617170704887702, 0.0012967721504763459, 0.0021208011129830585, 0.0016024991474574098, 0.0015910094283202768, 0.0013265036379595814, 0.0012125932033616145, 0.0010719989537507839, 0.0013230310913445115, 0.0015816686408685174, 0.0010729099070018388, 0.0011604221172746574, 0.0017798639830028916, 0.0015179422358355403, 0.001120569858739083, 0.0008597686103000671]"
   ]
  },
  {
   "cell_type": "code",
   "execution_count": 32,
   "metadata": {},
   "outputs": [
    {
     "name": "stdout",
     "output_type": "stream",
     "text": [
      "[2560.0, 2560.0, 1011.3, 727.5, 490.4, 402.4, 297.6, 253.6, 185.1, 150.1, 106.3, 85.2, 62.0, 54.1, 36.9, 28.1, 19.4, 15.0, 10.1, 8.3, 4.5, 3.8, 3.4, 2.1, 1.4, 1.3, 1.1, 0.1, 0.3, 0.0, 0.0, 0.0, 0.0, 0.0, 0.0, 0.0, 0.0, 0.0, 0.0, 0.0, 0.0, 0.0, 0.0, 0.0, 0.0, 0.0, 0.0, 0.0, 0.0, 0.0]\n",
      "[0.0, 0.0, 9.176600677810928, 7.338255923582933, 5.2, 6.437390775772433, 4.673328578219168, 5.2573757712379665, 5.3, 3.477067730142742, 3.348133808556641, 2.0396078054371136, 2.3664319132398464, 2.071231517720798, 2.9137604568666933, 1.7, 1.9595917942265426, 1.4832396974191326, 1.374772708486752, 2.0518284528683193, 0.806225774829855, 0.8717797887081347, 0.9165151389911681, 0.5385164807134504, 0.48989794855663565, 0.6403124237432849, 0.7, 0.30000000000000004, 0.45825756949558394, 0.0, 0.0, 0.0, 0.0, 0.0, 0.0, 0.0, 0.0, 0.0, 0.0, 0.0, 0.0, 0.0, 0.0, 0.0, 0.0, 0.0, 0.0, 0.0, 0.0, 0.0]\n"
     ]
    }
   ],
   "source": [
    "n_num_vacc_list = np.array(n_vacc_size)\n",
    "vacc_mean = n_num_vacc_list.mean(axis = 1)\n",
    "vacc_std = n_num_vacc_list.std(axis = 1)\n",
    "\n",
    "print(list(vacc_mean))\n",
    "print(list(vacc_std))"
   ]
  },
  {
   "cell_type": "code",
   "execution_count": 33,
   "metadata": {},
   "outputs": [],
   "source": [
    "# np.random.seed(0)\n",
    "# n = 1000; m = 2\n",
    "# G = nx.barabasi_albert_graph(n, m)\n",
    "\n",
    "k = vacc_mean.astype(int)\n",
    "topk_list = [get_topk_nodes(G, i) for i in k]\n",
    "\n",
    "zs = []\n",
    "for knodes in topk_list:\n",
    "    x = {}\n",
    "    for i in G.nodes: x[i] = 0\n",
    "    for i in knodes: x[i] = 1\n",
    "\n",
    "    z = exp_infsize(G, x, p)\n",
    "\n",
    "    zs.append(z)"
   ]
  },
  {
   "cell_type": "code",
   "execution_count": 34,
   "metadata": {},
   "outputs": [
    {
     "name": "stdout",
     "output_type": "stream",
     "text": [
      "[0.0, 0.0, 0.0018031158447265616, 0.022844238281250012, 0.15316898498535156, 0.245038134765625, 0.37517344970703115, 0.4287720825195313, 0.4997552917480469, 0.5346595336914063, 0.5681737304687496, 0.5901869018554687, 0.6078130126953123, 0.6158644775390624, 0.6278466033935545, 0.6347461395263674, 0.6428211761474607, 0.6474069427490237, 0.6503425048828126, 0.6514822052001953, 0.6558044769287111, 0.654838327026367, 0.6560887603759764, 0.6598062591552734, 0.6571833587646485, 0.6573604339599607, 0.6540978424072265, 0.6610764617919923, 0.6571334014892579, 0.6592037048339845, 0.6591657440185545, 0.6594864929199218, 0.659779849243164, 0.6594649719238279, 0.6579343078613282, 0.6573201324462892, 0.6569716888427736, 0.6583085296630856, 0.6591743774414064, 0.6559401367187505, 0.6598136535644525, 0.6577811431884768, 0.6564754882812504, 0.6588017578125, 0.657813385009766, 0.6585157775878901, 0.6600007232666016, 0.6607630676269528, 0.6559835021972656, 0.6592315307617189]\n"
     ]
    }
   ],
   "source": [
    "print(zs)"
   ]
  },
  {
   "cell_type": "code",
   "execution_count": 35,
   "metadata": {},
   "outputs": [
    {
     "name": "stdout",
     "output_type": "stream",
     "text": [
      "2560\n",
      "2560\n",
      "1013\n",
      "738\n",
      "486\n",
      "408\n",
      "291\n",
      "255\n",
      "187\n",
      "156\n",
      "105\n",
      "82\n",
      "63\n",
      "55\n",
      "34\n",
      "25\n",
      "17\n"
     ]
    },
    {
     "data": {
      "text/plain": [
       "17"
      ]
     },
     "execution_count": 35,
     "metadata": {},
     "output_type": "execute_result"
    }
   ],
   "source": [
    "xx = ([xlist_alpha[i][0] for i in range(0,17)])\n",
    "# len(xx)topk_list[1:]\n",
    "# len(topk_list[1:])\n",
    "for i in xx:\n",
    "    print(sum(i.values()))\n",
    "\n",
    "len(topk_list[:17])"
   ]
  },
  {
   "cell_type": "code",
   "execution_count": 36,
   "metadata": {},
   "outputs": [
    {
     "data": {
      "image/png": "[encoded data removed]",
      "text/plain": [
       "<Figure size 432x288 with 1 Axes>"
      ]
     },
     "metadata": {
      "needs_background": "light"
     },
     "output_type": "display_data"
    }
   ],
   "source": [
    "# set(topk_list[0])\n",
    "\n",
    "from util import *\n",
    "from strategy_vector_manipulator import *\n",
    "\n",
    "jaccard = []\n",
    "for x, knodes in zip(xx, topk_list[:17]):\n",
    "    vacc = get_provax(x)\n",
    "    v = intersect(set(vacc), set(knodes))\n",
    "    u = union(set(vacc), set(knodes))\n",
    "\n",
    "    jaccard.append(len(v)/len(u))\n",
    "\n",
    "plt.plot(jaccard, 'o-')\n",
    "plt.xlabel(r'$\\alpha$')\n",
    "plt.ylabel('Jaccard Index')\n",
    "\n",
    "plt.savefig('2_4_p4.pdf')"
   ]
  },
  {
   "cell_type": "code",
   "execution_count": 52,
   "metadata": {},
   "outputs": [],
   "source": [
    "# '2.3  p = 0.4'\n",
    "# exp_inf = [z4]\n",
    "# zs\n",
    "# legend = ['(p = 0.4) Best-response NE ', ' (p = 0.4) Topk Nodes']\n",
    "\n",
    "# for y in exp_inf:\n",
    "#     plt.plot(alphavals, y, 'o-')\n",
    "#     plt.plot(alphavals, zs, 'o-')\n",
    "\n",
    "\n",
    "# plt.xlabel(r'$\\alpha$')\n",
    "# plt.ylabel('E[#inf]/n')\n",
    "# #ax.set_title('Montgomery county network')\n",
    "# plt.legend(legend)\n",
    "# plt.savefig('2_3_p4.pdf')"
   ]
  },
  {
   "cell_type": "code",
   "execution_count": 37,
   "metadata": {},
   "outputs": [
    {
     "data": {
      "text/plain": [
       "<matplotlib.legend.Legend at 0x7fa30705c410>"
      ]
     },
     "execution_count": 37,
     "metadata": {},
     "output_type": "execute_result"
    },
    {
     "data": {
      "image/png": "[encoded data removed]",
      "text/plain": [
       "<Figure size 432x288 with 1 Axes>"
      ]
     },
     "metadata": {
      "needs_background": "light"
     },
     "output_type": "display_data"
    }
   ],
   "source": [
    "p4 = exp_inf_list\n",
    "exp_inf = [p4]\n",
    "legend = ['Best-response NE', 'Topk Nodes']\n",
    "\n",
    "for y in exp_inf:\n",
    "    plt.plot(alphavals, y, 'o-')\n",
    "\n",
    "    plt.plot(alphavals, zs, 'o-')\n",
    "\n",
    "\n",
    "plt.xlabel(r'$\\alpha$')\n",
    "plt.ylabel('E[#inf]')\n",
    "#ax.set_title('Montgomery county network')\n",
    "plt.legend(legend)\n",
    "#plt.savefig('out/montgomery_p0.0435.png')"
   ]
  },
  {
   "cell_type": "code",
   "execution_count": 32,
   "metadata": {},
   "outputs": [],
   "source": [
    "# p1 = [0.0, 0.0, 0.001356834, 0.0016395199999999998, 0.0017922860000000001, 0.0018332099999999996, 0.001955692, 0.002190552, 0.002336868, 0.00224686, 0.002278218, 0.0024380020000000003, 0.00243888, 0.002432844, 0.002446016, 0.0024340580000000002, 0.0024152019999999995, 0.0024434439999999995, 0.0024258120000000003, 0.00240963, 0.0024208999999999993, 0.002444848, 0.002440438, 0.002436532000000001, 0.002401036, 0.002471888, 0.0024298059999999996, 0.002452676, 0.0024213999999999998, 0.0024878699999999997, 0.0024694300000000003, 0.0024251560000000004, 0.002455742, 0.002419895999999999, 0.0024030559999999998, 0.0024264799999999995, 0.0024256200000000003, 0.0024405039999999996, 0.0024268000000000002, 0.002446722, 0.0024319320000000004, 0.0024316060000000002, 0.0024240699999999995, 0.002456836, 0.0024099399999999997, 0.00242308, 0.002425132, 0.0024358619999999996, 0.0024190439999999995, 0.002453242]\n",
    "\n",
    "# p1std = [0.0, 0.0, 2.0913899779811447e-05, 3.620937116272522e-05, 6.0146648152660676e-05, 8.462854234831206e-05, 0.0001919547478339623, 0.00024221060558117632, 0.00018773009374098757, 0.00025216656780786774, 0.00023812349391859672, 5.785566693073376e-05, 8.18047177123666e-05, 3.544601393668972e-05, 6.203690114762359e-05, 3.670562730699464e-05, 5.271578924762506e-05, 6.882671504583042e-05, 5.280955989212564e-05, 7.294630641780262e-05, 2.7444052178932914e-05, 0.00010627293134189898, 4.384673894373436e-05, 5.6350647343220465e-05, 3.328743042050544e-05, 7.12370236323781e-05, 4.7888730240005434e-05, 6.280535824274885e-05, 9.325865879370139e-05, 5.190917086604282e-05, 4.217512276212136e-05, 4.237057639447438e-05, 5.9044651205676574e-05, 3.4728634640595864e-05, 4.933430757596541e-05, 5.839804517276251e-05, 4.6820413496679357e-05, 6.669287686102634e-05, 4.491435761535511e-05, 5.8366704515502445e-05, 6.552969903791713e-05, 5.2227654015856466e-05, 4.5141383452437426e-05, 5.999273742712543e-05, 6.783803240071171e-05, 7.494933808913864e-05, 5.1349082328704014e-05, 5.5226105747191896e-05, 7.623100461098448e-05, 7.081774322865682e-05]\n",
    "\n",
    "# p2 = [0.0, 0.0, 0.001433094, 0.00229778, 0.003246438, 0.0054734119999999995, 0.0063207720000000005, 0.009647584, 0.011403241999999997, 0.011688994, 0.018351849999999996, 0.021807776000000004, 0.02137006, 0.024006704, 0.025558040000000004, 0.027090784, 0.026034968000000002, 0.02435717, 0.030239804000000002, 0.026383914, 0.025560657999999997, 0.027828916, 0.033203998, 0.032424176000000006, 0.033350304000000004, 0.03305050599999999, 0.033515408000000003, 0.032742716000000005, 0.03390515, 0.034068462, 0.033070576000000004, 0.033305382, 0.033790572, 0.033872104, 0.033763548, 0.033100166, 0.034020301999999995, 0.032939858, 0.03304262200000001, 0.033061815999999994, 0.033410362, 0.033844877999999995, 0.033522164, 0.033364534, 0.033005528, 0.03289569399999999, 0.033490278, 0.033634569999999996, 0.03329368000000001, 0.033927238]\n",
    "\n",
    "\n",
    "# p2std = [0.0, 0.0, 2.6374609077671896e-05, 0.00010421973172101317, 0.00025291540205372976, 0.001281367805595255, 0.0016920341228521367, 0.002700414651831085, 0.0034772955248520364, 0.0029575507494147934, 0.000578771866852562, 0.006071327243302241, 0.005739868626921701, 0.007353070853790544, 0.007796270007787055, 0.008054266027619397, 0.0074322110647004665, 0.007532755729459177, 0.005894631439591794, 0.0078085787194344175, 0.00743295107009564, 0.007556190378886969, 0.0014945141264089815, 0.001583434986952103, 0.001671320201488625, 0.0011981728923006025, 0.0011210140729964084, 0.0012035204543272204, 0.0009947552466913585, 0.0009580495551045312, 0.0011726105722805033, 0.0011804075840640864, 0.0010661374964309204, 0.001728546351679351, 0.0012335714209789383, 0.0014961566556761369, 0.0007758427924496027, 0.0013663026341905373, 0.0012059619695645484, 0.0012307009247676647, 0.0014696319430782608, 0.0013464344551874761, 0.0014173241831789928, 0.0011970119226490626, 0.0014176789477790821, 0.0014026249993223435, 0.0014267298696095164, 0.0017053663941863043, 0.0009843993326287869, 0.00148784951847826]\n",
    "\n",
    "# p3 = [0.0, 0.0, 0.001560314, 0.0031529300000000004, 0.006212870000000001, 0.014188239999999996, 0.02099983, 0.033674192000000006, 0.05152563000000001, 0.06753388400000002, 0.078577432, 0.092475028, 0.11264394800000002, 0.113822118, 0.11529896999999997, 0.12726294600000002, 0.13594339800000005, 0.133452898, 0.16783603399999997, 0.15094014, 0.16379042399999993, 0.163244178, 0.168203638, 0.16660676600000002, 0.166618448, 0.15708966, 0.16688868799999998, 0.17600677599999998, 0.163739398, 0.16394582600000002, 0.158689138, 0.16745515000000002, 0.17414242, 0.17200094400000002, 0.15892515199999996, 0.18793758, 0.18705350199999998, 0.18563104600000002, 0.186001252, 0.18696160999999997, 0.18758192199999998, 0.18637813, 0.18668103, 0.185801126, 0.18634369, 0.18785227799999996, 0.187246696, 0.185594664, 0.187286782, 0.18583261399999995]\n",
    "\n",
    "# p3std = [0.0, 0.0, 8.379074032373757e-05, 0.00033266932184979135, 0.0007182670536924278, 0.00377560911443968, 0.004026687968514571, 0.00815096456743716, 0.021589780899694655, 0.014765562284954273, 0.03163095161906604, 0.023718059968478367, 0.026406349326481608, 0.012430052460589047, 0.013259863438329208, 0.016308841750304778, 0.012402065427969471, 0.01351448498018169, 0.018783813427804386, 0.019710145424638555, 0.019115159712991773, 0.01929892798923185, 0.020417846036144823, 0.018991543207061496, 0.019595609224707863, 0.015460081270575509, 0.019782242652688704, 0.01843714165854956, 0.01962423396598084, 0.019057320768001054, 0.017959311774600834, 0.019989681594303105, 0.01824181200141257, 0.019680909141656665, 0.016415910963116724, 0.002633434230065378, 0.002296185289412858, 0.002380954650253575, 0.002307572977016323, 0.0018187566476963962, 0.0020603341843972787, 0.0025722656752715204, 0.0014346271489763516, 0.001823023711684541, 0.002500933911293951, 0.00289286540153461, 0.0014462114632044756, 0.0019527171063069893, 0.002855339661020381, 0.002368503282531795]\n",
    "\n",
    "# p4 = [0.0, 0.0, 0.001481984, 0.0031443239999999996, 0.009401722000000001, 0.029607764, 0.06067971, 0.10363233599999999, 0.153822308, 0.18284513800000002, 0.213303794, 0.23223928000000002, 0.26314762599999997, 0.265251792, 0.31327799800000006, 0.30961402600000004, 0.312122954, 0.30362928599999994, 0.330901828, 0.3544949, 0.37452981400000007, 0.37077028000000006, 0.37483434400000004, 0.368068752, 0.38126724599999995, 0.39660730000000005, 0.397572104, 0.401242356, 0.403184506, 0.40486870999999985, 0.402905432, 0.403221516, 0.40280686999999993, 0.403048218, 0.403434544, 0.404050158, 0.40382640599999997, 0.40243373799999993, 0.403100568, 0.40260349, 0.40438719799999995, 0.40537511400000004, 0.40118677199999997, 0.404333234, 0.4040706620000001, 0.40422561999999995, 0.40245741399999996, 0.40306282200000004, 0.404899568, 0.40370057]\n",
    "\n",
    "# p4std = [0.0, 0.0, 3.989599458592297e-05, 0.0002759866635618465, 0.0022981952626084674, 0.007101842809703975, 0.015235575480287575, 0.016737412771029563, 0.026461700272474104, 0.029547284642130436, 0.02387129339506519, 0.034882775592830366, 0.03211406429879726, 0.024426428810719242, 0.031116369855173576, 0.02441371099051359, 0.03474121221133429, 0.01744917368692979, 0.02715774157345666, 0.032513208761727586, 0.02335676654213599, 0.013140068529133353, 0.02869337879436412, 0.0176499336920051, 0.017889052225159522, 0.01165323532454398, 0.011432640325687887, 0.001893072903441385, 0.002166512443814747, 0.0021823391684016196, 0.003374204594451257, 0.002213626394689028, 0.002810529410146822, 0.003308235442243509, 0.002752584032225708, 0.0020882475265820246, 0.0036182267996358874, 0.0014579671259791636, 0.003771599400426313, 0.003029068104130421, 0.002035889766042271, 0.003265324087536166, 0.002554600470886976, 0.0016174850493540483, 0.00337149598423554, 0.003200973861461557, 0.00405439130445051, 0.0028993829777584934, 0.003415075620143104, 0.003101474412420674]\n"
   ]
  },
  {
   "cell_type": "code",
   "execution_count": 55,
   "metadata": {},
   "outputs": [
    {
     "data": {
      "text/plain": [
       "<matplotlib.legend.Legend at 0x7fa31c0ec590>"
      ]
     },
     "execution_count": 55,
     "metadata": {},
     "output_type": "execute_result"
    },
    {
     "data": {
      "image/png": "[encoded data removed]",
      "text/plain": [
       "<Figure size 432x288 with 1 Axes>"
      ]
     },
     "metadata": {
      "needs_background": "light"
     },
     "output_type": "display_data"
    }
   ],
   "source": [
    "z = [z4]\n",
    "zstd = [z4std]\n",
    "legend = ['p = ' + str('%0.2f'%i) for i in [0.4]]\n",
    "for y in z:\n",
    "    plt.plot(alphavals, y, 'o-')\n",
    "\n",
    "plt.xlabel(r'$\\alpha$')\n",
    "plt.ylabel('E[#inf]')\n",
    "#ax.set_title('Montgomery county network')\n",
    "plt.legend(legend)\n",
    "#plt.savefig('out/montgomery_p0.0435.png')"
   ]
  },
  {
   "cell_type": "code",
   "execution_count": 59,
   "metadata": {},
   "outputs": [
    {
     "data": {
      "text/plain": [
       "<matplotlib.legend.Legend at 0x7fa31bf0ea10>"
      ]
     },
     "execution_count": 59,
     "metadata": {},
     "output_type": "execute_result"
    },
    {
     "data": {
      "image/png": "[encoded data removed]",
      "text/plain": [
       "<Figure size 432x288 with 1 Axes>"
      ]
     },
     "metadata": {
      "needs_background": "light"
     },
     "output_type": "display_data"
    }
   ],
   "source": [
    "z = [z4]\n",
    "zstd = [z4std]\n",
    "legend = ['p = ' + str('%0.2f'%i) for i in np.arange(0.3, 0.4, 0.1)]\n",
    "for y,e in zip(z,zstd):\n",
    "    plt.errorbar(alphavals, y, e, fmt='o-')\n",
    "\n",
    "plt.xlabel(r'$\\alpha$')\n",
    "plt.ylabel('E[#inf]')\n",
    "#ax.set_title('Montgomery county network')\n",
    "plt.legend(legend)\n",
    "#plt.savefig('out/montgomery_p0.0435.png')"
   ]
  },
  {
   "cell_type": "code",
   "execution_count": 22,
   "metadata": {},
   "outputs": [
    {
     "data": {
      "text/plain": [
       "103"
      ]
     },
     "execution_count": 22,
     "metadata": {},
     "output_type": "execute_result"
    }
   ],
   "source": [
    "max([G.degree(v) for v in G.nodes()])"
   ]
  },
  {
   "cell_type": "code",
   "execution_count": 52,
   "metadata": {},
   "outputs": [],
   "source": [
    "def compare_degree(s1):\n",
    "    a = [i[1] for i in s1.degree()]\n",
    "    a2 = collections.Counter(a)\n",
    "    a2v = list(a2.values())\n",
    "    print(a2v)\n",
    "    \n",
    "    \n",
    "    plt.xlim(0,210)\n",
    "    plt.bar(a2.keys(), np.log(a2v), width = 1)\n",
    "    plt.xlabel(\"d\"); plt.ylabel(\"log(Frequency)\")\n",
    "    plt.title(\"Vaccinated nodes degree distribution\")\n",
    "    plt.savefig(\"3_deg_p4.pdf\"); plt.show()\n",
    "\n",
    "\n",
    "def compare_cc(s1):\n",
    "    a = [round(i,2) for i in nx.clustering(s1).values()]   #Round to 0.01,0.02,etc.\n",
    "    a2 = collections.Counter(a)\n",
    "    a2v = list(a2.values())\n",
    "    plt.bar(a2.keys(), np.log(a2v),width=0.01)\n",
    "    plt.xlabel(\"Clustering Coefficient\"); plt.ylabel(\"log(Frequency)\")\n",
    "    plt.title(\"Vaccinated nodes clustering coefficient\")\n",
    "    plt.savefig(\"3_cc_p4.pdf\"); plt.show()"
   ]
  },
  {
   "cell_type": "code",
   "execution_count": 53,
   "metadata": {},
   "outputs": [
    {
     "name": "stdout",
     "output_type": "stream",
     "text": [
      "[233, 115, 86, 23, 116, 66, 121, 99, 23, 13, 275, 31, 182, 52, 141, 27, 111, 73, 150, 71, 18, 12, 118, 26, 43, 79, 2, 22, 25, 42, 7, 2, 37, 14, 11, 12, 15, 6, 1, 14, 1, 1, 2, 1, 7, 5, 2, 15, 3, 3, 1, 3, 1, 1]\n"
     ]
    },
    {
     "data": {
      "image/png": "[encoded data removed]",
      "text/plain": [
       "<Figure size 432x288 with 1 Axes>"
      ]
     },
     "metadata": {
      "needs_background": "light"
     },
     "output_type": "display_data"
    },
    {
     "data": {
      "image/png": "[encoded data removed]",
      "text/plain": [
       "<Figure size 432x288 with 1 Axes>"
      ]
     },
     "metadata": {
      "needs_background": "light"
     },
     "output_type": "display_data"
    }
   ],
   "source": [
    "import collections\n",
    "from util import *\n",
    "from strategy_vector_manipulator import *\n",
    "\n",
    "v10 = set(get_provax(xx[0]))\n",
    "heh1 = G.subgraph(v10)\n",
    "compare_degree(heh1)\n",
    "compare_cc(heh1)"
   ]
  },
  {
   "cell_type": "code",
   "execution_count": null,
   "metadata": {},
   "outputs": [],
   "source": [
    "degrees = G.degree()\n",
    "sum(degrees.values())/len(G)\n"
   ]
  },
  {
   "cell_type": "code",
   "execution_count": 38,
   "metadata": {},
   "outputs": [],
   "source": [
    "import pandas as pd\n",
    "\n",
    "df = pd.read_csv('Albe_demographics.csv')"
   ]
  },
  {
   "cell_type": "code",
   "execution_count": 39,
   "metadata": {},
   "outputs": [],
   "source": [
    "df['pid'] = df['pid'].astype(str)"
   ]
  },
  {
   "cell_type": "code",
   "execution_count": 40,
   "metadata": {},
   "outputs": [],
   "source": [
    "attrs = df.set_index('pid').to_dict('index')"
   ]
  },
  {
   "cell_type": "code",
   "execution_count": 41,
   "metadata": {},
   "outputs": [],
   "source": [
    "nx.set_node_attributes(G, attrs)"
   ]
  },
  {
   "cell_type": "code",
   "execution_count": 42,
   "metadata": {},
   "outputs": [
    {
     "data": {
      "text/plain": [
       "<BarContainer object of 9 artists>"
      ]
     },
     "execution_count": 42,
     "metadata": {},
     "output_type": "execute_result"
    },
    {
     "data": {
      "image/png": "[encoded data removed]",
      "text/plain": [
       "<Figure size 432x288 with 1 Axes>"
      ]
     },
     "metadata": {
      "needs_background": "light"
     },
     "output_type": "display_data"
    }
   ],
   "source": [
    "hhs = nx.get_node_attributes(G, 'hh_size')\n",
    "\n",
    "count = {}\n",
    "\n",
    "for u in G.nodes:\n",
    "    if hhs[u] not in count:\n",
    "        count[hhs[u]] = 0\n",
    "    count[hhs[u]] += 1\n",
    "\n",
    "y = np.array(list(count.values()))/len(G.nodes)\n",
    "    \n",
    "plt.bar(count.keys(),  y)"
   ]
  },
  {
   "cell_type": "code",
   "execution_count": null,
   "metadata": {},
   "outputs": [],
   "source": [
    "hhs = nx.get_node_attributes(G, 'hh_size')\n",
    "\n",
    "hh_count = {}\n",
    "for x in xx:\n",
    "    for u in x.keys():\n",
    "        if(x[u] == 1):\n",
    "            if hhs[u] not in hh_count.keys():\n",
    "                hh_count[hhs[u]] = 1\n",
    "            else:\n",
    "                hh_count[hhs[u]] += 1\n",
    "        \n",
    "    "
   ]
  },
  {
   "cell_type": "code",
   "execution_count": 44,
   "metadata": {},
   "outputs": [],
   "source": [
    "for i in hh_count:\n",
    "    hh_count[i] /= len(xx)"
   ]
  },
  {
   "cell_type": "code",
   "execution_count": 45,
   "metadata": {},
   "outputs": [
    {
     "data": {
      "text/plain": [
       "<BarContainer object of 9 artists>"
      ]
     },
     "execution_count": 45,
     "metadata": {},
     "output_type": "execute_result"
    },
    {
     "data": {
      "image/png": "[encoded data removed]",
      "text/plain": [
       "<Figure size 432x288 with 1 Axes>"
      ]
     },
     "metadata": {
      "needs_background": "light"
     },
     "output_type": "display_data"
    }
   ],
   "source": [
    "keys = hh_count.keys()\n",
    "values = hh_count.values()\n",
    "\n",
    "plt.bar(keys, values)"
   ]
  },
  {
   "cell_type": "code",
   "execution_count": 46,
   "metadata": {},
   "outputs": [],
   "source": [
    "ag = nx.get_node_attributes(G, 'age_group')\n",
    "# ag"
   ]
  },
  {
   "cell_type": "code",
   "execution_count": 47,
   "metadata": {},
   "outputs": [],
   "source": [
    "ag = nx.get_node_attributes(G, 'age_group')\n",
    "\n",
    "ag_count = {}\n",
    "for x in xlist_alpha[10]:\n",
    "    for u in x.keys():\n",
    "        if(x[u] == 1):\n",
    "            if ag[u] not in ag_count:\n",
    "                ag_count[ag[u]] = 1\n",
    "            else:\n",
    "                ag_count[ag[u]] += 1"
   ]
  },
  {
   "cell_type": "code",
   "execution_count": 48,
   "metadata": {},
   "outputs": [
    {
     "name": "stdout",
     "output_type": "stream",
     "text": [
      "dict_keys(['g', 'a', 'o', 'p', 's'])\n"
     ]
    },
    {
     "data": {
      "text/plain": [
       "<BarContainer object of 5 artists>"
      ]
     },
     "execution_count": 48,
     "metadata": {},
     "output_type": "execute_result"
    },
    {
     "data": {
      "image/png": "[encoded data removed]",
      "text/plain": [
       "<Figure size 432x288 with 1 Axes>"
      ]
     },
     "metadata": {
      "needs_background": "light"
     },
     "output_type": "display_data"
    }
   ],
   "source": [
    "keys = ag_count.keys()\n",
    "values = ag_count.values()\n",
    "\n",
    "print(keys)\n",
    "\n",
    "plt.bar(keys, values)"
   ]
  },
  {
   "cell_type": "code",
   "execution_count": null,
   "metadata": {},
   "outputs": [],
   "source": [
    "ag = nx.get_node_attributes(G, 'age_group')\n",
    "\n",
    "count = {}\n",
    "\n",
    "for u in G.nodes:\n",
    "    if ag[u] not in count:\n",
    "        count[ag[u]] = 0\n",
    "    count[ag[u]] += 1\n",
    "\n",
    "plt.bar(['o', 'a', 's', 'p', 'g'], [count['o'], count['a'], count['s'], count['p'], count['g'])"
   ]
  },
  {
   "cell_type": "code",
   "execution_count": 50,
   "metadata": {},
   "outputs": [
    {
     "data": {
      "text/plain": [
       "2560"
      ]
     },
     "execution_count": 50,
     "metadata": {},
     "output_type": "execute_result"
    }
   ],
   "source": [
    "len(G.nodes)"
   ]
  },
  {
   "cell_type": "code",
   "execution_count": null,
   "metadata": {},
   "outputs": [],
   "source": []
  },
  {
   "cell_type": "code",
   "execution_count": null,
   "metadata": {},
   "outputs": [],
   "source": []
  }
 ],
 "metadata": {
  "kernelspec": {
   "display_name": "Python 3",
   "language": "python",
   "name": "python3"
  },
  "language_info": {
   "codemirror_mode": {
    "name": "ipython",
    "version": 3
   },
   "file_extension": ".py",
   "mimetype": "text/x-python",
   "name": "python",
   "nbconvert_exporter": "python",
   "pygments_lexer": "ipython3",
   "version": "3.7.4"
  }
 },
 "nbformat": 4,
 "nbformat_minor": 4
}
